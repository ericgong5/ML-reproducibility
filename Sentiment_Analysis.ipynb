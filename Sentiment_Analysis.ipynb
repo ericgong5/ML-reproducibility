{
  "cells": [
    {
      "cell_type": "markdown",
      "source": [
        "#Prepare data"
      ],
      "metadata": {
        "id": "owezfws7uyPh"
      }
    },
    {
      "cell_type": "code",
      "execution_count": 20,
      "metadata": {
        "id": "8nqOllpgB4XT"
      },
      "outputs": [],
      "source": [
        "import pandas as pd\n",
        "import numpy as np\n",
        "import seaborn as sb\n",
        "import matplotlib.pyplot as plt\n",
        "import copy\n",
        "import warnings\n",
        "import math\n",
        "from pandas import DataFrame\n",
        "import urllib.request\n",
        "import tarfile\n"
      ]
    },
    {
      "cell_type": "markdown",
      "source": [
        "##Retrieving MR dataset"
      ],
      "metadata": {
        "id": "H4LLUARvu4Cy"
      }
    },
    {
      "cell_type": "code",
      "execution_count": 21,
      "metadata": {
        "id": "7vZ8LAfTB8lQ"
      },
      "outputs": [],
      "source": [
        "url = \"https://www.cs.cornell.edu/people/pabo/movie-review-data/rt-polaritydata.tar.gz\"\n",
        "filename = \"rt-polaritydata.tar.gz\"\n",
        "\n",
        "# Download the file\n",
        "urllib.request.urlretrieve(url, filename)\n",
        "\n",
        "# Open the tar.gz file in read mode\n",
        "with tarfile.open('rt-polaritydata.tar.gz', 'r:gz') as tar:\n",
        "    # Extract all files to a directory\n",
        "    tar.extractall()"
      ]
    },
    {
      "cell_type": "code",
      "execution_count": 22,
      "metadata": {
        "id": "IDOTnQlKE9Q2"
      },
      "outputs": [],
      "source": [
        "# Open the file in read mode\n",
        "neg = []\n",
        "pos = []\n",
        "labels = []\n",
        "with open('rt-polaritydata/rt-polarity.neg', 'r', encoding='latin-1') as file:\n",
        "    # Read all lines and store them in a list\n",
        "    neg = file.readlines()\n",
        "\n",
        "\n",
        "with open('rt-polaritydata/rt-polarity.pos', 'r', encoding='latin-1') as file:\n",
        "    # Read all lines and store them in a list\n",
        "    pos = file.readlines()\n",
        "\n",
        "data = neg + pos\n",
        "labels = [0] * len(neg) + [1] * len(pos)"
      ]
    },
    {
      "cell_type": "markdown",
      "metadata": {
        "id": "xQ_6jBoeFxW8"
      },
      "source": [
        "Preprocess data"
      ]
    },
    {
      "cell_type": "code",
      "execution_count": 23,
      "metadata": {
        "colab": {
          "base_uri": "https://localhost:8080/"
        },
        "id": "5pOza9MnFy93",
        "outputId": "2a8cbe18-0ec9-4f92-e15b-a07434bb56c4"
      },
      "outputs": [
        {
          "output_type": "stream",
          "name": "stderr",
          "text": [
            "[nltk_data] Downloading package punkt to /root/nltk_data...\n",
            "[nltk_data]   Unzipping tokenizers/punkt.zip.\n",
            "[nltk_data] Downloading package stopwords to /root/nltk_data...\n",
            "[nltk_data]   Unzipping corpora/stopwords.zip.\n",
            "[nltk_data] Downloading package wordnet to /root/nltk_data...\n"
          ]
        }
      ],
      "source": [
        "import nltk\n",
        "from nltk.corpus import stopwords\n",
        "from nltk.stem import WordNetLemmatizer\n",
        "import re\n",
        "nltk.download('punkt')\n",
        "nltk.download('stopwords')\n",
        "nltk.download('wordnet')\n",
        "\n",
        "# Define a function to preprocess text data\n",
        "def preprocess_text(text: str) -> str:\n",
        "    # Remove non-alphabetic characters and convert to lowercase\n",
        "    text = re.sub('[^a-zA-Z]', ' ', text.lower())\n",
        "\n",
        "    # Tokenize the text into words\n",
        "    words = nltk.word_tokenize(text)\n",
        "\n",
        "    # Remove stop words\n",
        "    #words = [word for word in words if word not in stopwords.words('english')]\n",
        "\n",
        "    # Lemmatize the remaining words\n",
        "    lemmatizer = WordNetLemmatizer()\n",
        "    words = [lemmatizer.lemmatize(word) for word in words]\n",
        "\n",
        "    # Return the preprocessed text as a string\n",
        "    return ' '.join(words)"
      ]
    },
    {
      "cell_type": "markdown",
      "source": [
        "##Preprocessing"
      ],
      "metadata": {
        "id": "CXsLayDQu9oI"
      }
    },
    {
      "cell_type": "code",
      "execution_count": 24,
      "metadata": {
        "id": "_dODEHGSFp88"
      },
      "outputs": [],
      "source": [
        "#for some reason preprocessing text lowers accuracy by 1 to 3%\n",
        "#data = [preprocess_text(text) for text in data]"
      ]
    },
    {
      "cell_type": "markdown",
      "metadata": {
        "id": "MRtUtsqbGXlQ"
      },
      "source": [
        "Randomize data"
      ]
    },
    {
      "cell_type": "code",
      "execution_count": 25,
      "metadata": {
        "colab": {
          "base_uri": "https://localhost:8080/"
        },
        "id": "CJ-JH6i_GZql",
        "outputId": "8816166d-d650-443a-db86-e33b7264c699"
      },
      "outputs": [
        {
          "output_type": "stream",
          "name": "stdout",
          "text": [
            "['this loud and thoroughly obnoxious comedy about a pair of squabbling working-class spouses is a deeply unpleasant experience . \\n'\n",
            " \"the 3d images only enhance the film's otherworldly quality , giving it a strange combo of you-are-there closeness with the disorienting unreality of the seemingly broken-down fourth wall of the movie screen . \\n\"\n",
            " 'there are films that try the patience of even the most cinema-besotted critic -- and this was one of them . \\n'\n",
            " 'a small gem of a movie that defies classification and is as thought-provoking as it is funny , scary and sad . \\n'\n",
            " \"the story and structure are well-honed . fresnadillo's dark and jolting images have a way of plying into your subconscious like the nightmare you had a week ago that won't go away . \\n\"] [0 1 0 1 1]\n"
          ]
        }
      ],
      "source": [
        "import numpy as np\n",
        "\n",
        "def unison_shuffled_copies(data_array: list, labels_array: list) -> tuple[list, list]:\n",
        "    assert len(data_array) == len(labels_array)\n",
        "    p = np.random.permutation(len(data_array))\n",
        "    return data_array[p], labels_array[p]\n",
        "\n",
        "data, labels = unison_shuffled_copies(np.array(data) , np.array(labels))\n",
        "\n",
        "print(data[:5], labels[:5])"
      ]
    },
    {
      "cell_type": "markdown",
      "metadata": {
        "id": "asnu-awjJXHr"
      },
      "source": [
        "Seperate train and test set"
      ]
    },
    {
      "cell_type": "code",
      "execution_count": 26,
      "metadata": {
        "id": "S_124-m8JaG0"
      },
      "outputs": [],
      "source": [
        "from sklearn.model_selection import train_test_split\n",
        "\n",
        "train_data, test_data, train_labels, test_labels = train_test_split(data, labels, test_size=0.2, random_state=42)"
      ]
    },
    {
      "cell_type": "markdown",
      "metadata": {
        "id": "OP7_29W4lIK0"
      },
      "source": [
        "Plot ROC curve"
      ]
    },
    {
      "cell_type": "code",
      "execution_count": 27,
      "metadata": {
        "id": "sFnAOBt4lFZN"
      },
      "outputs": [],
      "source": [
        "from sklearn.metrics import roc_curve\n",
        "import matplotlib.pyplot as plt\n",
        "\n",
        "def plot_roc_curve(y_true, y_pred):\n",
        "    fpr, tpr, thresholds = roc_curve(y_true, y_pred)\n",
        "    plt.plot(fpr, tpr)\n",
        "    plt.plot([0, 1], [0, 1], linestyle='--')\n",
        "    plt.xlabel('False Positive Rate')\n",
        "    plt.ylabel('True Positive Rate')\n",
        "    plt.title('Receiver Operating Characteristic (ROC) Curve')\n",
        "    plt.show()"
      ]
    },
    {
      "cell_type": "markdown",
      "metadata": {
        "id": "roZjqvwCF5wd"
      },
      "source": [
        "# Try a simple logistic model"
      ]
    },
    {
      "cell_type": "code",
      "execution_count": 45,
      "metadata": {
        "id": "7cWor5S4F8hC"
      },
      "outputs": [],
      "source": [
        "from sklearn.feature_extraction.text import CountVectorizer\n",
        "from sklearn.feature_extraction.text import TfidfVectorizer\n",
        "from sklearn.linear_model import LogisticRegression\n",
        "from sklearn.pipeline import make_pipeline\n",
        "from sklearn.metrics import classification_report\n",
        "from sklearn.metrics import accuracy_score\n",
        "\n",
        "baseline_model = make_pipeline(CountVectorizer(ngram_range=(1,3)), LogisticRegression(max_iter=1000)).fit(train_data, train_labels)"
      ]
    },
    {
      "cell_type": "markdown",
      "source": [
        "Batch test"
      ],
      "metadata": {
        "id": "ux_VfEodpyky"
      }
    },
    {
      "cell_type": "code",
      "source": [
        "def batch_train(model, X_train, y_train, X_test, y_test):\n",
        "    # Split data into batches\n",
        "  batch_size = 100\n",
        "  num_batches = int(len(X_train) / batch_size)\n",
        "  batches_X = np.array_split(X_train, num_batches)\n",
        "  batches_y = np.array_split(y_train, num_batches)\n",
        "\n",
        "  # Initialize Logistic Regression model\n",
        "  model = LogisticRegression()\n",
        "\n",
        "  # Train model using batch gradient descent\n",
        "  for i in range(num_batches):\n",
        "      model.fit(batches_X[i], batches_y[i])\n",
        "\n",
        "  # Evaluate model\n",
        "  accuracy = model.score(X_test, y_test)"
      ],
      "metadata": {
        "id": "dgTjrPpfpzjF"
      },
      "execution_count": 54,
      "outputs": []
    },
    {
      "cell_type": "code",
      "source": [
        "#batch_train(make_pipeline(CountVectorizer(ngram_range=(1,3)), LogisticRegression(max_iter=1000)),train_data, test_data, train_labels, test_labels)"
      ],
      "metadata": {
        "id": "e7H_pb6YqD5k"
      },
      "execution_count": 56,
      "outputs": []
    },
    {
      "cell_type": "markdown",
      "metadata": {
        "id": "3AfmE7n1GvyW"
      },
      "source": [
        "##Test logistic model"
      ]
    },
    {
      "cell_type": "code",
      "execution_count": null,
      "metadata": {
        "colab": {
          "base_uri": "https://localhost:8080/",
          "height": 642
        },
        "id": "OQ5QX9oZGyWJ",
        "outputId": "ebdfd93f-ab5f-4f90-ce7b-c6f2a03c5e79"
      },
      "outputs": [
        {
          "output_type": "stream",
          "name": "stdout",
          "text": [
            "              precision    recall  f1-score   support\n",
            "\n",
            "           0       0.79      0.75      0.77      1112\n",
            "           1       0.74      0.78      0.76      1021\n",
            "\n",
            "    accuracy                           0.76      2133\n",
            "   macro avg       0.76      0.76      0.76      2133\n",
            "weighted avg       0.76      0.76      0.76      2133\n",
            "\n",
            "Accuracy: 0.7637130801687764\n"
          ]
        },
        {
          "output_type": "display_data",
          "data": {
            "text/plain": [
              "<Figure size 640x480 with 1 Axes>"
            ],
            "image/png": "[encoded data removed]"
          },
          "metadata": {}
        }
      ],
      "source": [
        "baseline_predicted = baseline_model.predict(test_data)\n",
        "\n",
        "print(classification_report(test_labels, baseline_predicted))\n",
        "print(\"Accuracy: \" + str(accuracy_score(test_labels, baseline_predicted)))\n",
        "\n",
        "plot_roc_curve(test_labels, baseline_predicted)"
      ]
    },
    {
      "cell_type": "markdown",
      "metadata": {
        "id": "ksX-xVbuL_JY"
      },
      "source": [
        "##10 fold Cross Validation for Logistic Regression"
      ]
    },
    {
      "cell_type": "code",
      "execution_count": null,
      "metadata": {
        "colab": {
          "base_uri": "https://localhost:8080/"
        },
        "id": "GwIGcyk4MAQS",
        "outputId": "bb258836-ecdd-4c7c-b6d4-4ed3a8f5e584"
      },
      "outputs": [
        {
          "output_type": "stream",
          "name": "stdout",
          "text": [
            "Accuracy: 0.77 (+/- 0.02)\n"
          ]
        }
      ],
      "source": [
        "from sklearn.model_selection import cross_val_score\n",
        "\n",
        "# Use 10-fold cross-validation to estimate the accuracy\n",
        "scores = cross_val_score(baseline_model, data, labels, cv=10)\n",
        "\n",
        "# Print the mean and standard deviation of the accuracy scores\n",
        "print('Accuracy: %0.2f (+/- %0.2f)' % (scores.mean(), scores.std() * 2))"
      ]
    },
    {
      "cell_type": "markdown",
      "metadata": {
        "id": "YF9rjN5G0I2N"
      },
      "source": [
        "# Basic SVM with linear kernal\n"
      ]
    },
    {
      "cell_type": "code",
      "execution_count": null,
      "metadata": {
        "id": "QzGtMdcq0KGJ"
      },
      "outputs": [],
      "source": [
        "from sklearn import svm\n",
        "from sklearn.svm import LinearSVC\n",
        "\n",
        "svm_model = make_pipeline(TfidfVectorizer(ngram_range=(1,2)), LinearSVC(loss='squared_hinge', C=1, tol=0.1, max_iter=10000))\n",
        "fitt_svm= svm_model.fit(train_data, train_labels)"
      ]
    },
    {
      "cell_type": "markdown",
      "metadata": {
        "id": "MPZodkYdbUYG"
      },
      "source": [
        "## Test SVM"
      ]
    },
    {
      "cell_type": "code",
      "execution_count": null,
      "metadata": {
        "colab": {
          "base_uri": "https://localhost:8080/"
        },
        "id": "AGg1alYBbVTQ",
        "outputId": "3c7f15e8-eedb-4395-afe9-c279706754ce"
      },
      "outputs": [
        {
          "output_type": "stream",
          "name": "stdout",
          "text": [
            "              precision    recall  f1-score   support\n",
            "\n",
            "           0       0.81      0.75      0.78      1112\n",
            "           1       0.75      0.80      0.78      1021\n",
            "\n",
            "    accuracy                           0.78      2133\n",
            "   macro avg       0.78      0.78      0.78      2133\n",
            "weighted avg       0.78      0.78      0.78      2133\n",
            "\n",
            "Accuracy: 0.7782466010314112\n"
          ]
        }
      ],
      "source": [
        "svm_predicted = fitt_svm.predict(test_data)\n",
        "\n",
        "print(classification_report(test_labels, svm_predicted))\n",
        "print(\"Accuracy: \" + str(accuracy_score(test_labels, svm_predicted)))"
      ]
    },
    {
      "cell_type": "markdown",
      "metadata": {
        "id": "tScAgG5R0iGV"
      },
      "source": [
        "##10 fold Cross Validation for SVM"
      ]
    },
    {
      "cell_type": "code",
      "execution_count": null,
      "metadata": {
        "colab": {
          "base_uri": "https://localhost:8080/"
        },
        "id": "kcZsfo670juQ",
        "outputId": "4ffd6910-2391-4833-b6ee-fd5d8bc0f503"
      },
      "outputs": [
        {
          "output_type": "stream",
          "name": "stdout",
          "text": [
            "Accuracy: 0.79 (+/- 0.02)\n"
          ]
        }
      ],
      "source": [
        "# Use 10-fold cross-validation to estimate the accuracy\n",
        "scores = cross_val_score(svm_model, data, labels, cv=10)\n",
        "\n",
        "# Print the mean and standard deviation of the accuracy scores\n",
        "print('Accuracy: %0.2f (+/- %0.2f)' % (scores.mean(), scores.std() * 2))"
      ]
    },
    {
      "cell_type": "markdown",
      "metadata": {
        "id": "ssc6OzEFlTCZ"
      },
      "source": [
        "Print ROC curve"
      ]
    },
    {
      "cell_type": "code",
      "execution_count": null,
      "metadata": {
        "colab": {
          "base_uri": "https://localhost:8080/",
          "height": 487
        },
        "id": "01QNBVw3lUIt",
        "outputId": "8f61ea08-21b5-49bc-e30b-8f4bdfd58f9a"
      },
      "outputs": [
        {
          "output_type": "display_data",
          "data": {
            "text/plain": [
              "<Figure size 700x500 with 1 Axes>"
            ],
            "image/png": "[encoded data removed]"
          },
          "metadata": {}
        }
      ],
      "source": [
        "plot_roc_curve(test_labels, svm_predicted)"
      ]
    },
    {
      "cell_type": "markdown",
      "metadata": {
        "id": "jkEiczCA6zYv"
      },
      "source": [
        "Tune hyperparameters for SVM"
      ]
    },
    {
      "cell_type": "code",
      "execution_count": null,
      "metadata": {
        "id": "l46d5aWM63WI",
        "colab": {
          "base_uri": "https://localhost:8080/",
          "height": 172
        },
        "outputId": "1ca400b2-6e8f-46b6-fc78-2d90ab9e8686"
      },
      "outputs": [
        {
          "output_type": "execute_result",
          "data": {
            "text/plain": [
              "GridSearchCV(cv=5,\n",
              "             estimator=Pipeline(steps=[('tfidfvectorizer',\n",
              "                                        TfidfVectorizer(ngram_range=(1, 2))),\n",
              "                                       ('linearsvc',\n",
              "                                        LinearSVC(C=1, max_iter=10000,\n",
              "                                                  tol=0.1))]),\n",
              "             param_grid={'linearsvc__C': [0.1, 1, 10],\n",
              "                         'linearsvc__dual': [False, True],\n",
              "                         'linearsvc__penalty': ['l2'],\n",
              "                         'linearsvc__tol': [0.001, 0.0001, 1e-05]})"
            ],
            "text/html": [
              "<style>#sk-container-id-2 {color: black;background-color: white;}#sk-container-id-2 pre{padding: 0;}#sk-container-id-2 div.sk-toggleable {background-color: white;}#sk-container-id-2 label.sk-toggleable__label {cursor: pointer;display: block;width: 100%;margin-bottom: 0;padding: 0.3em;box-sizing: border-box;text-align: center;}#sk-container-id-2 label.sk-toggleable__label-arrow:before {content: \"▸\";float: left;margin-right: 0.25em;color: #696969;}#sk-container-id-2 label.sk-toggleable__label-arrow:hover:before {color: black;}#sk-container-id-2 div.sk-estimator:hover label.sk-toggleable__label-arrow:before {color: black;}#sk-container-id-2 div.sk-toggleable__content {max-height: 0;max-width: 0;overflow: hidden;text-align: left;background-color: #f0f8ff;}#sk-container-id-2 div.sk-toggleable__content pre {margin: 0.2em;color: black;border-radius: 0.25em;background-color: #f0f8ff;}#sk-container-id-2 input.sk-toggleable__control:checked~div.sk-toggleable__content {max-height: 200px;max-width: 100%;overflow: auto;}#sk-container-id-2 input.sk-toggleable__control:checked~label.sk-toggleable__label-arrow:before {content: \"▾\";}#sk-container-id-2 div.sk-estimator input.sk-toggleable__control:checked~label.sk-toggleable__label {background-color: #d4ebff;}#sk-container-id-2 div.sk-label input.sk-toggleable__control:checked~label.sk-toggleable__label {background-color: #d4ebff;}#sk-container-id-2 input.sk-hidden--visually {border: 0;clip: rect(1px 1px 1px 1px);clip: rect(1px, 1px, 1px, 1px);height: 1px;margin: -1px;overflow: hidden;padding: 0;position: absolute;width: 1px;}#sk-container-id-2 div.sk-estimator {font-family: monospace;background-color: #f0f8ff;border: 1px dotted black;border-radius: 0.25em;box-sizing: border-box;margin-bottom: 0.5em;}#sk-container-id-2 div.sk-estimator:hover {background-color: #d4ebff;}#sk-container-id-2 div.sk-parallel-item::after {content: \"\";width: 100%;border-bottom: 1px solid gray;flex-grow: 1;}#sk-container-id-2 div.sk-label:hover label.sk-toggleable__label {background-color: #d4ebff;}#sk-container-id-2 div.sk-serial::before {content: \"\";position: absolute;border-left: 1px solid gray;box-sizing: border-box;top: 0;bottom: 0;left: 50%;z-index: 0;}#sk-container-id-2 div.sk-serial {display: flex;flex-direction: column;align-items: center;background-color: white;padding-right: 0.2em;padding-left: 0.2em;position: relative;}#sk-container-id-2 div.sk-item {position: relative;z-index: 1;}#sk-container-id-2 div.sk-parallel {display: flex;align-items: stretch;justify-content: center;background-color: white;position: relative;}#sk-container-id-2 div.sk-item::before, #sk-container-id-2 div.sk-parallel-item::before {content: \"\";position: absolute;border-left: 1px solid gray;box-sizing: border-box;top: 0;bottom: 0;left: 50%;z-index: -1;}#sk-container-id-2 div.sk-parallel-item {display: flex;flex-direction: column;z-index: 1;position: relative;background-color: white;}#sk-container-id-2 div.sk-parallel-item:first-child::after {align-self: flex-end;width: 50%;}#sk-container-id-2 div.sk-parallel-item:last-child::after {align-self: flex-start;width: 50%;}#sk-container-id-2 div.sk-parallel-item:only-child::after {width: 0;}#sk-container-id-2 div.sk-dashed-wrapped {border: 1px dashed gray;margin: 0 0.4em 0.5em 0.4em;box-sizing: border-box;padding-bottom: 0.4em;background-color: white;}#sk-container-id-2 div.sk-label label {font-family: monospace;font-weight: bold;display: inline-block;line-height: 1.2em;}#sk-container-id-2 div.sk-label-container {text-align: center;}#sk-container-id-2 div.sk-container {/* jupyter's `normalize.less` sets `[hidden] { display: none; }` but bootstrap.min.css set `[hidden] { display: none !important; }` so we also need the `!important` here to be able to override the default hidden behavior on the sphinx rendered scikit-learn.org. See: https://github.com/scikit-learn/scikit-learn/issues/21755 */display: inline-block !important;position: relative;}#sk-container-id-2 div.sk-text-repr-fallback {display: none;}</style><div id=\"sk-container-id-2\" class=\"sk-top-container\"><div class=\"sk-text-repr-fallback\"><pre>GridSearchCV(cv=5,\n",
              "             estimator=Pipeline(steps=[(&#x27;tfidfvectorizer&#x27;,\n",
              "                                        TfidfVectorizer(ngram_range=(1, 2))),\n",
              "                                       (&#x27;linearsvc&#x27;,\n",
              "                                        LinearSVC(C=1, max_iter=10000,\n",
              "                                                  tol=0.1))]),\n",
              "             param_grid={&#x27;linearsvc__C&#x27;: [0.1, 1, 10],\n",
              "                         &#x27;linearsvc__dual&#x27;: [False, True],\n",
              "                         &#x27;linearsvc__penalty&#x27;: [&#x27;l2&#x27;],\n",
              "                         &#x27;linearsvc__tol&#x27;: [0.001, 0.0001, 1e-05]})</pre><b>In a Jupyter environment, please rerun this cell to show the HTML representation or trust the notebook. <br />On GitHub, the HTML representation is unable to render, please try loading this page with nbviewer.org.</b></div><div class=\"sk-container\" hidden><div class=\"sk-item sk-dashed-wrapped\"><div class=\"sk-label-container\"><div class=\"sk-label sk-toggleable\"><input class=\"sk-toggleable__control sk-hidden--visually\" id=\"sk-estimator-id-5\" type=\"checkbox\" ><label for=\"sk-estimator-id-5\" class=\"sk-toggleable__label sk-toggleable__label-arrow\">GridSearchCV</label><div class=\"sk-toggleable__content\"><pre>GridSearchCV(cv=5,\n",
              "             estimator=Pipeline(steps=[(&#x27;tfidfvectorizer&#x27;,\n",
              "                                        TfidfVectorizer(ngram_range=(1, 2))),\n",
              "                                       (&#x27;linearsvc&#x27;,\n",
              "                                        LinearSVC(C=1, max_iter=10000,\n",
              "                                                  tol=0.1))]),\n",
              "             param_grid={&#x27;linearsvc__C&#x27;: [0.1, 1, 10],\n",
              "                         &#x27;linearsvc__dual&#x27;: [False, True],\n",
              "                         &#x27;linearsvc__penalty&#x27;: [&#x27;l2&#x27;],\n",
              "                         &#x27;linearsvc__tol&#x27;: [0.001, 0.0001, 1e-05]})</pre></div></div></div><div class=\"sk-parallel\"><div class=\"sk-parallel-item\"><div class=\"sk-item\"><div class=\"sk-label-container\"><div class=\"sk-label sk-toggleable\"><input class=\"sk-toggleable__control sk-hidden--visually\" id=\"sk-estimator-id-6\" type=\"checkbox\" ><label for=\"sk-estimator-id-6\" class=\"sk-toggleable__label sk-toggleable__label-arrow\">estimator: Pipeline</label><div class=\"sk-toggleable__content\"><pre>Pipeline(steps=[(&#x27;tfidfvectorizer&#x27;, TfidfVectorizer(ngram_range=(1, 2))),\n",
              "                (&#x27;linearsvc&#x27;, LinearSVC(C=1, max_iter=10000, tol=0.1))])</pre></div></div></div><div class=\"sk-serial\"><div class=\"sk-item\"><div class=\"sk-serial\"><div class=\"sk-item\"><div class=\"sk-estimator sk-toggleable\"><input class=\"sk-toggleable__control sk-hidden--visually\" id=\"sk-estimator-id-7\" type=\"checkbox\" ><label for=\"sk-estimator-id-7\" class=\"sk-toggleable__label sk-toggleable__label-arrow\">TfidfVectorizer</label><div class=\"sk-toggleable__content\"><pre>TfidfVectorizer(ngram_range=(1, 2))</pre></div></div></div><div class=\"sk-item\"><div class=\"sk-estimator sk-toggleable\"><input class=\"sk-toggleable__control sk-hidden--visually\" id=\"sk-estimator-id-8\" type=\"checkbox\" ><label for=\"sk-estimator-id-8\" class=\"sk-toggleable__label sk-toggleable__label-arrow\">LinearSVC</label><div class=\"sk-toggleable__content\"><pre>LinearSVC(C=1, max_iter=10000, tol=0.1)</pre></div></div></div></div></div></div></div></div></div></div></div></div>"
            ]
          },
          "metadata": {},
          "execution_count": 17
        }
      ],
      "source": [
        "from sklearn.model_selection import GridSearchCV\n",
        "\n",
        "param_grid = {\n",
        "    'linearsvc__C': [0.1, 1, 10],\n",
        "    'linearsvc__penalty': ['l2'],\n",
        "    'linearsvc__dual': [False, True],\n",
        "    'linearsvc__tol': [1e-3, 1e-4, 1e-5]\n",
        "}\n",
        "\n",
        "\n",
        "grid_search = GridSearchCV(svm_model, param_grid, cv=5)\n",
        "grid_search.fit(data, labels)"
      ]
    },
    {
      "cell_type": "code",
      "source": [
        "print(\"Best parameters:\", grid_search.best_params_)\n",
        "print(\"Best score:\", grid_search.best_score_)"
      ],
      "metadata": {
        "colab": {
          "base_uri": "https://localhost:8080/"
        },
        "id": "-6i9n_hiirxN",
        "outputId": "6a35265d-63cf-4dab-b933-a89aad226951"
      },
      "execution_count": null,
      "outputs": [
        {
          "output_type": "stream",
          "name": "stdout",
          "text": [
            "Best parameters: {'linearsvc__C': 1, 'linearsvc__dual': False, 'linearsvc__penalty': 'l2', 'linearsvc__tol': 0.001}\n",
            "Best score: 0.7828740536675085\n"
          ]
        }
      ]
    },
    {
      "cell_type": "markdown",
      "metadata": {
        "id": "G2Pcca-rm4g9"
      },
      "source": [
        "# CNN from paper\n",
        "\n",
        "\n",
        "1.   https://arxiv.org/pdf/1408.5882.pdf\n",
        "2.   https://github.com/shagunsodhani/CNN-Sentence-Classifier/tree/master\n",
        "\n"
      ]
    },
    {
      "cell_type": "markdown",
      "source": [
        "##Downloading requirements/vector embeddings"
      ],
      "metadata": {
        "id": "ws9zdCAGu7w8"
      }
    },
    {
      "cell_type": "code",
      "source": [
        "!pip install tensorflow"
      ],
      "metadata": {
        "colab": {
          "base_uri": "https://localhost:8080/"
        },
        "id": "ku-ke12u8Ewn",
        "outputId": "0346576b-df16-44d1-df1b-b01c032132cd"
      },
      "execution_count": 28,
      "outputs": [
        {
          "output_type": "stream",
          "name": "stdout",
          "text": [
            "Looking in indexes: https://pypi.org/simple, https://us-python.pkg.dev/colab-wheels/public/simple/\n",
            "Requirement already satisfied: tensorflow in /usr/local/lib/python3.10/dist-packages (2.12.0)\n",
            "Requirement already satisfied: opt-einsum>=2.3.2 in /usr/local/lib/python3.10/dist-packages (from tensorflow) (3.3.0)\n",
            "Requirement already satisfied: tensorflow-io-gcs-filesystem>=0.23.1 in /usr/local/lib/python3.10/dist-packages (from tensorflow) (0.32.0)\n",
            "Requirement already satisfied: keras<2.13,>=2.12.0 in /usr/local/lib/python3.10/dist-packages (from tensorflow) (2.12.0)\n",
            "Requirement already satisfied: setuptools in /usr/local/lib/python3.10/dist-packages (from tensorflow) (67.7.2)\n",
            "Requirement already satisfied: flatbuffers>=2.0 in /usr/local/lib/python3.10/dist-packages (from tensorflow) (23.3.3)\n",
            "Requirement already satisfied: astunparse>=1.6.0 in /usr/local/lib/python3.10/dist-packages (from tensorflow) (1.6.3)\n",
            "Requirement already satisfied: protobuf!=4.21.0,!=4.21.1,!=4.21.2,!=4.21.3,!=4.21.4,!=4.21.5,<5.0.0dev,>=3.20.3 in /usr/local/lib/python3.10/dist-packages (from tensorflow) (3.20.3)\n",
            "Requirement already satisfied: wrapt<1.15,>=1.11.0 in /usr/local/lib/python3.10/dist-packages (from tensorflow) (1.14.1)\n",
            "Requirement already satisfied: tensorboard<2.13,>=2.12 in /usr/local/lib/python3.10/dist-packages (from tensorflow) (2.12.2)\n",
            "Requirement already satisfied: h5py>=2.9.0 in /usr/local/lib/python3.10/dist-packages (from tensorflow) (3.8.0)\n",
            "Requirement already satisfied: six>=1.12.0 in /usr/local/lib/python3.10/dist-packages (from tensorflow) (1.16.0)\n",
            "Requirement already satisfied: grpcio<2.0,>=1.24.3 in /usr/local/lib/python3.10/dist-packages (from tensorflow) (1.54.0)\n",
            "Requirement already satisfied: tensorflow-estimator<2.13,>=2.12.0 in /usr/local/lib/python3.10/dist-packages (from tensorflow) (2.12.0)\n",
            "Requirement already satisfied: libclang>=13.0.0 in /usr/local/lib/python3.10/dist-packages (from tensorflow) (16.0.0)\n",
            "Requirement already satisfied: gast<=0.4.0,>=0.2.1 in /usr/local/lib/python3.10/dist-packages (from tensorflow) (0.4.0)\n",
            "Requirement already satisfied: numpy<1.24,>=1.22 in /usr/local/lib/python3.10/dist-packages (from tensorflow) (1.22.4)\n",
            "Requirement already satisfied: typing-extensions>=3.6.6 in /usr/local/lib/python3.10/dist-packages (from tensorflow) (4.5.0)\n",
            "Requirement already satisfied: google-pasta>=0.1.1 in /usr/local/lib/python3.10/dist-packages (from tensorflow) (0.2.0)\n",
            "Requirement already satisfied: termcolor>=1.1.0 in /usr/local/lib/python3.10/dist-packages (from tensorflow) (2.3.0)\n",
            "Requirement already satisfied: jax>=0.3.15 in /usr/local/lib/python3.10/dist-packages (from tensorflow) (0.4.8)\n",
            "Requirement already satisfied: packaging in /usr/local/lib/python3.10/dist-packages (from tensorflow) (23.1)\n",
            "Requirement already satisfied: absl-py>=1.0.0 in /usr/local/lib/python3.10/dist-packages (from tensorflow) (1.4.0)\n",
            "Requirement already satisfied: wheel<1.0,>=0.23.0 in /usr/local/lib/python3.10/dist-packages (from astunparse>=1.6.0->tensorflow) (0.40.0)\n",
            "Requirement already satisfied: scipy>=1.7 in /usr/local/lib/python3.10/dist-packages (from jax>=0.3.15->tensorflow) (1.10.1)\n",
            "Requirement already satisfied: ml-dtypes>=0.0.3 in /usr/local/lib/python3.10/dist-packages (from jax>=0.3.15->tensorflow) (0.1.0)\n",
            "Requirement already satisfied: requests<3,>=2.21.0 in /usr/local/lib/python3.10/dist-packages (from tensorboard<2.13,>=2.12->tensorflow) (2.27.1)\n",
            "Requirement already satisfied: google-auth-oauthlib<1.1,>=0.5 in /usr/local/lib/python3.10/dist-packages (from tensorboard<2.13,>=2.12->tensorflow) (1.0.0)\n",
            "Requirement already satisfied: tensorboard-data-server<0.8.0,>=0.7.0 in /usr/local/lib/python3.10/dist-packages (from tensorboard<2.13,>=2.12->tensorflow) (0.7.0)\n",
            "Requirement already satisfied: werkzeug>=1.0.1 in /usr/local/lib/python3.10/dist-packages (from tensorboard<2.13,>=2.12->tensorflow) (2.3.0)\n",
            "Requirement already satisfied: markdown>=2.6.8 in /usr/local/lib/python3.10/dist-packages (from tensorboard<2.13,>=2.12->tensorflow) (3.4.3)\n",
            "Requirement already satisfied: tensorboard-plugin-wit>=1.6.0 in /usr/local/lib/python3.10/dist-packages (from tensorboard<2.13,>=2.12->tensorflow) (1.8.1)\n",
            "Requirement already satisfied: google-auth<3,>=1.6.3 in /usr/local/lib/python3.10/dist-packages (from tensorboard<2.13,>=2.12->tensorflow) (2.17.3)\n",
            "Requirement already satisfied: cachetools<6.0,>=2.0.0 in /usr/local/lib/python3.10/dist-packages (from google-auth<3,>=1.6.3->tensorboard<2.13,>=2.12->tensorflow) (5.3.0)\n",
            "Requirement already satisfied: rsa<5,>=3.1.4 in /usr/local/lib/python3.10/dist-packages (from google-auth<3,>=1.6.3->tensorboard<2.13,>=2.12->tensorflow) (4.9)\n",
            "Requirement already satisfied: pyasn1-modules>=0.2.1 in /usr/local/lib/python3.10/dist-packages (from google-auth<3,>=1.6.3->tensorboard<2.13,>=2.12->tensorflow) (0.3.0)\n",
            "Requirement already satisfied: requests-oauthlib>=0.7.0 in /usr/local/lib/python3.10/dist-packages (from google-auth-oauthlib<1.1,>=0.5->tensorboard<2.13,>=2.12->tensorflow) (1.3.1)\n",
            "Requirement already satisfied: certifi>=2017.4.17 in /usr/local/lib/python3.10/dist-packages (from requests<3,>=2.21.0->tensorboard<2.13,>=2.12->tensorflow) (2022.12.7)\n",
            "Requirement already satisfied: idna<4,>=2.5 in /usr/local/lib/python3.10/dist-packages (from requests<3,>=2.21.0->tensorboard<2.13,>=2.12->tensorflow) (3.4)\n",
            "Requirement already satisfied: urllib3<1.27,>=1.21.1 in /usr/local/lib/python3.10/dist-packages (from requests<3,>=2.21.0->tensorboard<2.13,>=2.12->tensorflow) (1.26.15)\n",
            "Requirement already satisfied: charset-normalizer~=2.0.0 in /usr/local/lib/python3.10/dist-packages (from requests<3,>=2.21.0->tensorboard<2.13,>=2.12->tensorflow) (2.0.12)\n",
            "Requirement already satisfied: MarkupSafe>=2.1.1 in /usr/local/lib/python3.10/dist-packages (from werkzeug>=1.0.1->tensorboard<2.13,>=2.12->tensorflow) (2.1.2)\n",
            "Requirement already satisfied: pyasn1<0.6.0,>=0.4.6 in /usr/local/lib/python3.10/dist-packages (from pyasn1-modules>=0.2.1->google-auth<3,>=1.6.3->tensorboard<2.13,>=2.12->tensorflow) (0.5.0)\n",
            "Requirement already satisfied: oauthlib>=3.0.0 in /usr/local/lib/python3.10/dist-packages (from requests-oauthlib>=0.7.0->google-auth-oauthlib<1.1,>=0.5->tensorboard<2.13,>=2.12->tensorflow) (3.2.2)\n"
          ]
        }
      ]
    },
    {
      "cell_type": "markdown",
      "metadata": {
        "id": "YW35ojcuuUOJ"
      },
      "source": [
        "argumentparser.py"
      ]
    },
    {
      "cell_type": "code",
      "execution_count": 29,
      "metadata": {
        "id": "Kphi8a-uuV36"
      },
      "outputs": [],
      "source": [
        "from __future__ import print_function\n",
        "\n",
        "import argparse\n",
        "\n",
        "\n",
        "def ArgumentParser():\n",
        "    parser = argparse.ArgumentParser()\n",
        "    parser.add_argument('--data_dir', type=str, default='data',\n",
        "                        help='data directory containing input.txt and label.txt')\n",
        "    parser.add_argument('--embedding_file_path', type=str, default='vectors.txt',\n",
        "                        help='path to file for embedding vectors')\n",
        "    parser.add_argument('--model_dir', type=str, default='model',\n",
        "                        help='directory to store checkpointed models')\n",
        "    parser.add_argument('--num_words', type=int, default=20000,\n",
        "                        help='Number of words to keep from the dataset')\n",
        "    parser.add_argument('--max_sequence_len', type=int, default=56,\n",
        "                        help='Maximum input sequence length')\n",
        "    parser.add_argument('--validation_split', type=float, default=0.2,\n",
        "                        help='Fraction of data to be used for validation')\n",
        "    parser.add_argument('--embedding_dim', type=int, default=100,\n",
        "                        help='Dimension of the embedding space to be used')\n",
        "    parser.add_argument('--model_name', type=str, default='cnn-rand',\n",
        "                        help='Name of the model variant, from the CNN Sentence '\n",
        "                             'Classifier paper. Possible values are cnn-rand, cnn-static'\n",
        "                             'cnn-non-static. If nothing is specified, it uses the arguments'\n",
        "                             'passed to the script to define the hyperparameters. To add'\n",
        "                             'your own model, pass model_name as self, define your model in'\n",
        "                             'app/model/model.py and invoke from model_selector function.')\n",
        "    parser.add_argument('--batch_size', type=int, default=32,\n",
        "                        help='minibatch size')\n",
        "    parser.add_argument('--num_epochs', type=int, default=10,\n",
        "                        help='number of epochs')\n",
        "    parser.add_argument('--grad_clip', type=float, default=5.,\n",
        "                        help='clip gradients at this value')\n",
        "    parser.add_argument('--learning_rate', type=float, default=0.001,\n",
        "                        help='learning rate')\n",
        "    parser.add_argument('--decay_rate', type=float, default=0.0,\n",
        "                        help='decay rate for rmsprop')\n",
        "    # parser.add_argument('--device', type=str, default='/cpu:0',\n",
        "    #                     help='Computing device to use for training. \\\n",
        "    #                     \\'/cpu:0\\' to use CPU of the machine.\\\n",
        "    #                     \\'/gpu:0\\' to use the first GPU of the machine (if there is a GPU).\\\n",
        "    #                     \\'/gpu:1\\' to use the second GPU of the machine and so on.')\n",
        "    return vars(parser.parse_args())"
      ]
    },
    {
      "cell_type": "markdown",
      "metadata": {
        "id": "PhRFIuJcuChF"
      },
      "source": [
        "filereader.py"
      ]
    },
    {
      "cell_type": "code",
      "execution_count": 30,
      "metadata": {
        "id": "J2tKf7IvuEN7"
      },
      "outputs": [],
      "source": [
        "from __future__ import division\n",
        "from __future__ import print_function\n",
        "\n",
        "import os\n",
        "\n",
        "import numpy as np\n",
        "\n",
        "\n",
        "def read_glove_vectors(glove_vector_path):\n",
        "    '''Method to read glove vectors and return an embedding dict.'''\n",
        "    embeddings_index = {}\n",
        "    with open(glove_vector_path, 'r') as f:\n",
        "        for line in f:\n",
        "            values = line.strip().split()\n",
        "            word = values[0]\n",
        "            coefs = np.asarray(values[1:], dtype='float32')\n",
        "            embeddings_index[word] = coefs[:]\n",
        "    return embeddings_index\n",
        "\n",
        "\n",
        "def read_input_data(input_data_path):\n",
        "    '''Method to read data from input_data_path'''\n",
        "    texts = []  # list of text samples\n",
        "    labels_index = {}  # dictionary mapping label name to numeric id\n",
        "    labels = []  # list of label ids\n",
        "    texts = list(open(os.path.join(input_data_path, \"input.txt\"), \"r\").readlines())\n",
        "\n",
        "    with open(os.path.join(input_data_path, \"label.txt\"), 'r') as label_f:\n",
        "        largest_label_id = 0\n",
        "        for line in label_f:\n",
        "            label = str(line.strip())\n",
        "            if label not in labels_index:\n",
        "                labels_index[label] = largest_label_id\n",
        "                largest_label_id += 1\n",
        "            labels.append(labels_index[label])\n",
        "\n",
        "    return texts, labels_index, labels"
      ]
    },
    {
      "cell_type": "markdown",
      "metadata": {
        "id": "nwMVsEqEt-h6"
      },
      "source": [
        "model.py"
      ]
    },
    {
      "cell_type": "code",
      "execution_count": 31,
      "metadata": {
        "id": "kMaxTkHZtUa-"
      },
      "outputs": [],
      "source": [
        "from __future__ import print_function\n",
        "\n",
        "from keras.layers import Conv1D, MaxPooling1D, Embedding\n",
        "from keras.layers import Dense, Input, Flatten, Dropout, Concatenate, Activation\n",
        "from keras.models import Model, Sequential\n",
        "from keras.optimizers import Adadelta, RMSprop, Adam\n",
        "\n",
        "\n",
        "def model_selector(args, embedding_matrix):\n",
        "    '''Method to select the model to be used for classification'''\n",
        "    if (args.model_name.lower() != 'self'):\n",
        "        return _predefined_model(args, embedding_matrix)\n",
        "\n",
        "\n",
        "def _predefined_model(args, embedding_matrix):\n",
        "    '''function to use one of the predefined models (based on the paper)'''\n",
        "    (filtersize_list, number_of_filters_per_filtersize, pool_length_list,\n",
        "     dropout_list, optimizer, use_embeddings, embeddings_trainable) \\\n",
        "        = _param_selector(args)\n",
        "\n",
        "    if (use_embeddings):\n",
        "        embedding_layer = Embedding(args.num_words + 1,\n",
        "                                    args.embedding_dim,\n",
        "                                    weights=[embedding_matrix],\n",
        "                                    input_length=args.max_sequence_len,\n",
        "                                    trainable=embeddings_trainable)\n",
        "    else:\n",
        "        embedding_layer = Embedding(args.num_words + 1,\n",
        "                                    args.embedding_dim,\n",
        "                                    weights=None,\n",
        "                                    input_length=args.max_sequence_len,\n",
        "                                    trainable=embeddings_trainable)\n",
        "\n",
        "    print('Defining model.')\n",
        "\n",
        "    input_node = Input(shape=(args.max_sequence_len, args.embedding_dim))\n",
        "    conv_list = []\n",
        "    for index, filtersize in enumerate(filtersize_list):\n",
        "        nb_filter = number_of_filters_per_filtersize[index]\n",
        "        pool_length = pool_length_list[index]\n",
        "        conv = Conv1D(nb_filter,filtersize, activation='relu')(input_node)\n",
        "        pool = MaxPooling1D(pool_size=pool_length)(conv)\n",
        "        flatten = Flatten()(pool)\n",
        "        conv_list.append(flatten)\n",
        "\n",
        "    if (len(filtersize_list) > 1):\n",
        "        out = Concatenate()(conv_list)\n",
        "    else:\n",
        "        out = conv_list[0]\n",
        "\n",
        "    graph = Model(inputs=input_node, outputs=out)\n",
        "\n",
        "    model = Sequential()\n",
        "    model.add(embedding_layer)\n",
        "    model.add(Dropout(dropout_list[0], input_shape=(args.max_sequence_len, args.embedding_dim)))\n",
        "    model.add(graph)\n",
        "    model.add(Dense(150))\n",
        "    model.add(Dropout(dropout_list[1]))\n",
        "    model.add(Activation('relu'))\n",
        "    model.add(Dense(args.len_labels_index, activation='softmax'))\n",
        "    model.compile(loss='categorical_crossentropy',\n",
        "                  optimizer=optimizer,\n",
        "                  metrics=['acc'])\n",
        "    return model\n",
        "\n",
        "\n",
        "def _param_selector(args):\n",
        "    '''Method to select parameters for models defined in Convolutional Neural Networks for\n",
        "        Sentence Classification paper by Yoon Kim'''\n",
        "    filtersize_list = [3, 4, 5]\n",
        "    number_of_filters_per_filtersize = [100, 100, 100]\n",
        "    pool_length_list = [2, 2, 2]\n",
        "    dropout_list = [0.5, 0.5]\n",
        "    #optimizer = Adadelta(lr=1, rho=0.95, epsilon=1e-06)\n",
        "    optimizer = Adam(learning_rate=args.learning_rate)\n",
        "    use_embeddings = True\n",
        "    embeddings_trainable = False\n",
        "\n",
        "    if (args.model_name.lower() == 'cnn-rand'):\n",
        "        use_embeddings = False\n",
        "        embeddings_trainable = True\n",
        "    elif (args.model_name.lower() == 'cnn-static'):\n",
        "        pass\n",
        "    elif (args.model_name.lower() == 'cnn-non-static'):\n",
        "        embeddings_trainable = True\n",
        "    else:\n",
        "        filtersize_list = [3, 4, 5]\n",
        "        number_of_filters_per_filtersize = [150, 150, 150]\n",
        "        pool_length_list = [2, 2, 2]\n",
        "        dropout_list = [0.25, 0.5]\n",
        "        optimizer = RMSprop(lr=args.learning_rate, decay=args.decay_rate,\n",
        "                            clipvalue=args.grad_clip)\n",
        "        use_embeddings = True\n",
        "        embeddings_trainable = True\n",
        "    return (filtersize_list, number_of_filters_per_filtersize, pool_length_list,\n",
        "            dropout_list, optimizer, use_embeddings, embeddings_trainable)"
      ]
    },
    {
      "cell_type": "markdown",
      "metadata": {
        "id": "yCJJXfMht512"
      },
      "source": [
        "train.py"
      ]
    },
    {
      "cell_type": "code",
      "execution_count": 32,
      "metadata": {
        "id": "nzHEfWUAtqD5"
      },
      "outputs": [],
      "source": [
        "from __future__ import print_function\n",
        "\n",
        "import os\n",
        "\n",
        "import numpy as np\n",
        "from keras.callbacks import ModelCheckpoint\n",
        "from keras.utils.data_utils import pad_sequences\n",
        "from keras.preprocessing.text import Tokenizer\n",
        "from keras.utils.np_utils import to_categorical\n",
        "\n",
        "def train(args):\n",
        "    print('Reading word vectors.')\n",
        "    embeddings_index = read_glove_vectors(args.embedding_file_path)\n",
        "    print('Found {} word vectors.'.format(len(embeddings_index)))\n",
        "\n",
        "    print('Processing input data')\n",
        "    texts, labels_index, labels = read_input_data(args.data_dir)\n",
        "    # texts - list of text samples\n",
        "    # labels_index - dictionary mapping label name to numeric id\n",
        "    # labels - list of label ids\n",
        "    print('Found {} texts.'.format(len(texts)))\n",
        "\n",
        "    # Vectorize the text sample into 2D integer tensor\n",
        "    tokenizer = Tokenizer(num_words=args.num_words)\n",
        "    tokenizer.fit_on_texts(texts)\n",
        "    sequences = tokenizer.texts_to_sequences(texts)\n",
        "    word_index = tokenizer.word_index\n",
        "    print('Found {} unique tokens.'.format(len(word_index)))\n",
        "\n",
        "    data = pad_sequences(sequences, maxlen=args.max_sequence_len)\n",
        "    print('Generated {} sequences.'.format(len(data)))\n",
        "\n",
        "    # Transform labels to be categorical variables\n",
        "    labels = to_categorical(np.asarray(labels))\n",
        "    print('Shape of data tensor:', data.shape)\n",
        "    print('Shape of label tensor:', labels.shape)\n",
        "\n",
        "    # split the input data into training set and validation set\n",
        "    indices = np.arange(data.shape[0])\n",
        "    np.random.shuffle(indices)\n",
        "    data = data[indices]\n",
        "    labels = labels[indices]\n",
        "    nb_validation_samples = int(args.validation_split * data.shape[0])\n",
        "\n",
        "    x_train = data[:-nb_validation_samples]\n",
        "    y_train = labels[:-nb_validation_samples]\n",
        "    x_val = data[-nb_validation_samples:]\n",
        "    y_val = labels[-nb_validation_samples:]\n",
        "    print('Training on {} sequences.'.format(len(x_train)))\n",
        "\n",
        "    print('Preparing embedding matrix.')\n",
        "\n",
        "    # initiate embedding matrix with zero vectors.\n",
        "    num_words = min(args.num_words, len(word_index))\n",
        "    embedding_matrix = np.zeros((num_words + 1, args.embedding_dim))\n",
        "    for word, i in word_index.items():\n",
        "        if i > num_words:\n",
        "            continue\n",
        "        embedding_vector = embeddings_index.get(word)\n",
        "        if embedding_vector is not None:\n",
        "            embedding_matrix[i] = embedding_vector\n",
        "    args.num_words = num_words\n",
        "    args.len_labels_index = len(labels_index)\n",
        "\n",
        "    model = model_selector(args, embedding_matrix)\n",
        "\n",
        "    checkpoint_filepath = os.path.join(args.model_dir, \"weights.best.hdf5\")\n",
        "    checkpoint = ModelCheckpoint(checkpoint_filepath, monitor='val_loss',\n",
        "                                 verbose=1, save_best_only=True)\n",
        "    callbacks_list = [checkpoint]\n",
        "    model_json = model.to_json()\n",
        "    with open(os.path.join(args.model_dir, \"model.json\"), \"w\") as json_file:\n",
        "        json_file.write(model_json)\n",
        "\n",
        "    model.fit(x_train, y_train, validation_data=(x_val, y_val),\n",
        "              epochs=args.num_epochs, batch_size=args.batch_size, callbacks=callbacks_list)"
      ]
    },
    {
      "cell_type": "markdown",
      "source": [
        "https://github.com/yoonkim/CNN_sentence"
      ],
      "metadata": {
        "id": "QsxPzAwSKfw2"
      }
    },
    {
      "cell_type": "code",
      "execution_count": 33,
      "metadata": {
        "id": "3IYTZ5Bxu7Ek"
      },
      "outputs": [],
      "source": [
        "def ArgumentParser_cnn_rand():\n",
        "    parser = argparse.ArgumentParser()\n",
        "    parser.add_argument('--data_dir', type=str, default='data',\n",
        "                        help='data directory containing input.txt and label.txt')\n",
        "    parser.add_argument('--embedding_file_path', type=str, default='vectors.txt',\n",
        "                        help='path to file for embedding vectors')\n",
        "    parser.add_argument('--model_dir', type=str, default='model',\n",
        "                        help='directory to store checkpointed models')\n",
        "    parser.add_argument('--num_words', type=int, default=20000,\n",
        "                        help='Number of words to keep from the dataset')\n",
        "    parser.add_argument('--max_sequence_len', type=int, default=56,\n",
        "                        help='Maximum input sequence length')\n",
        "    parser.add_argument('--validation_split', type=float, default=0.2,\n",
        "                        help='Fraction of data to be used for validation')\n",
        "    parser.add_argument('--embedding_dim', type=int, default=200,\n",
        "                        help='Dimension of the embedding space to be used')\n",
        "    parser.add_argument('--model_name', type=str, default='cnn-rand',\n",
        "                        help='Name of the model variant, from the CNN Sentence '\n",
        "                             'Classifier paper. Possible values are cnn-rand, cnn-static'\n",
        "                             'cnn-non-static. If nothing is specified, it uses the arguments'\n",
        "                             'passed to the script to define the hyperparameters. To add'\n",
        "                             'your own model, pass model_name as self, define your model in'\n",
        "                             'app/model/model.py and invoke from model_selector function.')\n",
        "    parser.add_argument('--batch_size', type=int, default=64,\n",
        "                        help='minibatch size')\n",
        "    parser.add_argument('--num_epochs', type=int, default=10,\n",
        "                        help='number of epochs')\n",
        "    parser.add_argument('--grad_clip', type=float, default=5.,\n",
        "                        help='clip gradients at this value')\n",
        "    parser.add_argument('--learning_rate', type=float, default=0.001,\n",
        "                        help='learning rate')\n",
        "    parser.add_argument('--decay_rate', type=float, default=0.0,\n",
        "                        help='decay rate for rmsprop')\n",
        "    parser.add_argument(\"-f\", \"--file\", required=False) \n",
        "    # parser.add_argument('--device', type=str, default='/cpu:0',\n",
        "    #                     help='Computing device to use for training. \\\n",
        "    #                     \\'/cpu:0\\' to use CPU of the machine.\\\n",
        "    #                     \\'/gpu:0\\' to use the first GPU of the machine (if there is a GPU).\\\n",
        "    #                     \\'/gpu:1\\' to use the second GPU of the machine and so on.')\n",
        "    return parser.parse_args()"
      ]
    },
    {
      "cell_type": "code",
      "source": [
        "#!git clone https://github.com/shagunsodhani/CNN-Sentence-Classifier.git"
      ],
      "metadata": {
        "id": "1FQ2A8xPlux-"
      },
      "execution_count": 34,
      "outputs": []
    },
    {
      "cell_type": "code",
      "source": [
        "import base64\n",
        "import requests\n",
        "\n",
        "master_input = \"https://raw.githubusercontent.com/shagunsodhani/CNN-Sentence-Classifier/master/sample_dataset/input.txt\"\n",
        "req_input = requests.get(master_input)\n",
        "req_input = req_input.text\n",
        "input_list = req_input.splitlines()\n",
        "\n",
        "master_label = \"https://raw.githubusercontent.com/shagunsodhani/CNN-Sentence-Classifier/master/sample_dataset/label.txt\"\n",
        "req_label = requests.get(master_label)\n",
        "req_label = req_label.text\n",
        "label_list = req_label.splitlines()"
      ],
      "metadata": {
        "id": "XWGJuxVBo-zH"
      },
      "execution_count": 35,
      "outputs": []
    },
    {
      "cell_type": "markdown",
      "metadata": {
        "id": "ENEa-nF8GQsv"
      },
      "source": [
        "create directory data with data"
      ]
    },
    {
      "cell_type": "code",
      "execution_count": 36,
      "metadata": {
        "id": "E2OKEoYnGSet"
      },
      "outputs": [],
      "source": [
        "import os\n",
        "\n",
        "# Create a directory called \"data\" if it doesn't exist already\n",
        "if not os.path.exists(\"data\"):\n",
        "    os.makedirs(\"data\")\n",
        "\n",
        "# Create a file called \"input.txt\" inside the \"data\" directory\n",
        "with open(\"data/input.txt\", \"w\") as f:\n",
        "    for input in input_list:\n",
        "        f.write(str(input) + \"\\n\")\n",
        "\n",
        "# Create a file called \"labels.txt\" inside the \"data\" directory\n",
        "with open(\"data/label.txt\", \"w\") as f:\n",
        "    for label in label_list:\n",
        "        f.write(str(label) + \"\\n\")"
      ]
    },
    {
      "cell_type": "markdown",
      "source": [
        "MR data"
      ],
      "metadata": {
        "id": "rNLAYdITdGl1"
      }
    },
    {
      "cell_type": "code",
      "source": [
        "import os\n",
        "\n",
        "# Create a directory called \"data\" if it doesn't exist already\n",
        "if not os.path.exists(\"MRdata\"):\n",
        "    os.makedirs(\"MRdata\")\n",
        "\n",
        "# Create a file called \"input.txt\" inside the \"data\" directory\n",
        "with open(\"MRdata/input.txt\", \"w\") as f:\n",
        "    print(\"data size: \",len(data))\n",
        "    for input in data:\n",
        "        f.write(str(input))\n",
        "\n",
        "# Create a file called \"labels.txt\" inside the \"data\" directory\n",
        "with open(\"MRdata/label.txt\", \"w\") as f:\n",
        "  print(\"labels size: \",len(labels))\n",
        "  for label in labels:\n",
        "      f.write(str(label) + \"\\n\")"
      ],
      "metadata": {
        "id": "JgV5gy-HdFyZ",
        "colab": {
          "base_uri": "https://localhost:8080/"
        },
        "outputId": "a7a56aa0-4372-4448-e7d1-1ab270c49661"
      },
      "execution_count": 37,
      "outputs": [
        {
          "output_type": "stream",
          "name": "stdout",
          "text": [
            "data size:  10662\n",
            "labels size:  10662\n"
          ]
        }
      ]
    },
    {
      "cell_type": "code",
      "source": [
        "!mkdir model"
      ],
      "metadata": {
        "id": "v06OTZWL3SJ7",
        "colab": {
          "base_uri": "https://localhost:8080/"
        },
        "outputId": "06c106dd-106e-4a5b-8f37-d0200ea14f24"
      },
      "execution_count": 52,
      "outputs": [
        {
          "output_type": "stream",
          "name": "stdout",
          "text": [
            "mkdir: cannot create directory ‘model’: File exists\n"
          ]
        }
      ]
    },
    {
      "cell_type": "code",
      "source": [
        "!wget https://nlp.stanford.edu/data/glove.6B.zip"
      ],
      "metadata": {
        "colab": {
          "base_uri": "https://localhost:8080/"
        },
        "id": "VzNbzkc1ocI-",
        "outputId": "bd93121c-0938-4eb2-a422-aff2f8b259d8"
      },
      "execution_count": 54,
      "outputs": [
        {
          "output_type": "stream",
          "name": "stdout",
          "text": [
            "--2023-04-28 02:59:26--  https://nlp.stanford.edu/data/glove.6B.zip\n",
            "Resolving nlp.stanford.edu (nlp.stanford.edu)... 171.64.67.140\n",
            "Connecting to nlp.stanford.edu (nlp.stanford.edu)|171.64.67.140|:443... connected.\n",
            "HTTP request sent, awaiting response... 301 Moved Permanently\n",
            "Location: https://downloads.cs.stanford.edu/nlp/data/glove.6B.zip [following]\n",
            "--2023-04-28 02:59:26--  https://downloads.cs.stanford.edu/nlp/data/glove.6B.zip\n",
            "Resolving downloads.cs.stanford.edu (downloads.cs.stanford.edu)... 171.64.64.22\n",
            "Connecting to downloads.cs.stanford.edu (downloads.cs.stanford.edu)|171.64.64.22|:443... connected.\n",
            "HTTP request sent, awaiting response... 200 OK\n",
            "Length: 862182613 (822M) [application/zip]\n",
            "Saving to: ‘glove.6B.zip’\n",
            "\n",
            "glove.6B.zip        100%[===================>] 822.24M  5.00MB/s    in 2m 39s  \n",
            "\n",
            "2023-04-28 03:02:05 (5.19 MB/s) - ‘glove.6B.zip’ saved [862182613/862182613]\n",
            "\n"
          ]
        }
      ]
    },
    {
      "cell_type": "code",
      "source": [
        "!mkdir glove_vectors\n",
        "!unzip glove.6B.zip -d glove_vectors"
      ],
      "metadata": {
        "colab": {
          "base_uri": "https://localhost:8080/"
        },
        "id": "XVd6VgG8o-l3",
        "outputId": "9062ea19-97da-4af1-cce7-01295b6fd64e"
      },
      "execution_count": 55,
      "outputs": [
        {
          "output_type": "stream",
          "name": "stdout",
          "text": [
            "mkdir: cannot create directory ‘glove_vectors’: File exists\n",
            "Archive:  glove.6B.zip\n",
            "  inflating: glove_vectors/glove.6B.50d.txt  \n",
            "  inflating: glove_vectors/glove.6B.100d.txt  \n",
            "  inflating: glove_vectors/glove.6B.200d.txt  \n",
            "  inflating: glove_vectors/glove.6B.300d.txt  \n"
          ]
        }
      ]
    },
    {
      "cell_type": "code",
      "source": [
        "!cp glove_vectors/glove.6B.200d.txt vectors.txt"
      ],
      "metadata": {
        "id": "YJPPCtOas98P"
      },
      "execution_count": 56,
      "outputs": []
    },
    {
      "cell_type": "markdown",
      "source": [
        "https://code.google.com/archive/p/word2vec/ better embeddings but hard to get file"
      ],
      "metadata": {
        "id": "lDnuMA28PWuu"
      }
    },
    {
      "cell_type": "code",
      "source": [
        "#!wget https://drive.google.com/file/d/0B7XkCwpI5KDYNlNUTTlSS21pQmM/edit?usp=sharing"
      ],
      "metadata": {
        "id": "vq4qp1TiHlSP"
      },
      "execution_count": 42,
      "outputs": []
    },
    {
      "cell_type": "code",
      "source": [
        "#!gdown 0B7XkCwpI5KDYNlNUTTlSS21pQmM"
      ],
      "metadata": {
        "id": "0FsjT2ptIETJ"
      },
      "execution_count": 43,
      "outputs": []
    },
    {
      "cell_type": "code",
      "source": [
        "#!gunzip GoogleNews-vectors-negative300.bin.gz"
      ],
      "metadata": {
        "id": "1bdiXKf4HlW_"
      },
      "execution_count": 44,
      "outputs": []
    },
    {
      "cell_type": "markdown",
      "source": [
        "## CNN Rand"
      ],
      "metadata": {
        "id": "mdpE4kQklz4x"
      }
    },
    {
      "cell_type": "code",
      "execution_count": 57,
      "metadata": {
        "id": "eugHrqWFxfsK",
        "colab": {
          "base_uri": "https://localhost:8080/"
        },
        "outputId": "9f62a8f3-b836-481e-8ad2-6618c1e119b7"
      },
      "outputs": [
        {
          "output_type": "execute_result",
          "data": {
            "text/plain": [
              "Namespace(data_dir='data', embedding_file_path='vectors.txt', model_dir='model', num_words=20000, max_sequence_len=56, validation_split=0.2, embedding_dim=200, model_name='cnn-rand', batch_size=64, num_epochs=10, grad_clip=5.0, learning_rate=0.001, decay_rate=0.0, file='/root/.local/share/jupyter/runtime/kernel-75cf4a42-7d7b-48e8-abc8-c09a2619bbfc.json')"
            ]
          },
          "metadata": {},
          "execution_count": 57
        }
      ],
      "source": [
        "args_rand = ArgumentParser_cnn_rand()\n",
        "args_rand"
      ]
    },
    {
      "cell_type": "code",
      "execution_count": 58,
      "metadata": {
        "id": "ic_eKuNgx4lX",
        "colab": {
          "base_uri": "https://localhost:8080/"
        },
        "outputId": "cf8f3e48-32d9-4817-e9cf-8461ad9bbd0b"
      },
      "outputs": [
        {
          "output_type": "stream",
          "name": "stdout",
          "text": [
            "Reading word vectors.\n",
            "Found 400000 word vectors.\n",
            "Processing input data\n",
            "Found 10662 texts.\n",
            "Found 19498 unique tokens.\n",
            "Generated 10662 sequences.\n",
            "Shape of data tensor: (10662, 56)\n",
            "Shape of label tensor: (10662, 2)\n",
            "Training on 8530 sequences.\n",
            "Preparing embedding matrix.\n",
            "Defining model.\n",
            "Epoch 1/10\n",
            "134/134 [==============================] - ETA: 0s - loss: 0.6878 - acc: 0.5478\n",
            "Epoch 1: val_loss improved from inf to 0.62058, saving model to model/weights.best.hdf5\n",
            "134/134 [==============================] - 12s 15ms/step - loss: 0.6878 - acc: 0.5478 - val_loss: 0.6206 - val_acc: 0.6909\n",
            "Epoch 2/10\n",
            "130/134 [============================>.] - ETA: 0s - loss: 0.4712 - acc: 0.7858\n",
            "Epoch 2: val_loss improved from 0.62058 to 0.48177, saving model to model/weights.best.hdf5\n",
            "134/134 [==============================] - 2s 12ms/step - loss: 0.4704 - acc: 0.7860 - val_loss: 0.4818 - val_acc: 0.7692\n",
            "Epoch 3/10\n",
            "133/134 [============================>.] - ETA: 0s - loss: 0.1903 - acc: 0.9296\n",
            "Epoch 3: val_loss did not improve from 0.48177\n",
            "134/134 [==============================] - 1s 10ms/step - loss: 0.1901 - acc: 0.9298 - val_loss: 0.5699 - val_acc: 0.7627\n",
            "Epoch 4/10\n",
            "130/134 [============================>.] - ETA: 0s - loss: 0.0592 - acc: 0.9812\n",
            "Epoch 4: val_loss did not improve from 0.48177\n",
            "134/134 [==============================] - 1s 9ms/step - loss: 0.0594 - acc: 0.9811 - val_loss: 0.7224 - val_acc: 0.7491\n",
            "Epoch 5/10\n",
            "132/134 [============================>.] - ETA: 0s - loss: 0.0246 - acc: 0.9918\n",
            "Epoch 5: val_loss did not improve from 0.48177\n",
            "134/134 [==============================] - 1s 9ms/step - loss: 0.0245 - acc: 0.9919 - val_loss: 0.8959 - val_acc: 0.7589\n",
            "Epoch 6/10\n",
            "132/134 [============================>.] - ETA: 0s - loss: 0.0114 - acc: 0.9964\n",
            "Epoch 6: val_loss did not improve from 0.48177\n",
            "134/134 [==============================] - 1s 9ms/step - loss: 0.0113 - acc: 0.9965 - val_loss: 1.0078 - val_acc: 0.7697\n",
            "Epoch 7/10\n",
            "132/134 [============================>.] - ETA: 0s - loss: 0.0065 - acc: 0.9976\n",
            "Epoch 7: val_loss did not improve from 0.48177\n",
            "134/134 [==============================] - 1s 9ms/step - loss: 0.0064 - acc: 0.9977 - val_loss: 1.1691 - val_acc: 0.7664\n",
            "Epoch 8/10\n",
            "131/134 [============================>.] - ETA: 0s - loss: 0.0065 - acc: 0.9973\n",
            "Epoch 8: val_loss did not improve from 0.48177\n",
            "134/134 [==============================] - 1s 9ms/step - loss: 0.0064 - acc: 0.9973 - val_loss: 1.2876 - val_acc: 0.7589\n",
            "Epoch 9/10\n",
            "132/134 [============================>.] - ETA: 0s - loss: 0.0043 - acc: 0.9992\n",
            "Epoch 9: val_loss did not improve from 0.48177\n",
            "134/134 [==============================] - 1s 9ms/step - loss: 0.0043 - acc: 0.9992 - val_loss: 1.3043 - val_acc: 0.7561\n",
            "Epoch 10/10\n",
            "133/134 [============================>.] - ETA: 0s - loss: 0.0028 - acc: 0.9992\n",
            "Epoch 10: val_loss did not improve from 0.48177\n",
            "134/134 [==============================] - 1s 8ms/step - loss: 0.0028 - acc: 0.9992 - val_loss: 1.3840 - val_acc: 0.7641\n"
          ]
        }
      ],
      "source": [
        "train(args_rand)"
      ]
    },
    {
      "cell_type": "code",
      "source": [
        "def ArgumentParser_cnn_static():\n",
        "    parser = argparse.ArgumentParser()\n",
        "    parser.add_argument('--data_dir', type=str, default='data',\n",
        "                        help='data directory containing input.txt and label.txt')\n",
        "    parser.add_argument('--embedding_file_path', type=str, default='vectors.txt',\n",
        "                        help='path to file for embedding vectors')\n",
        "    parser.add_argument('--model_dir', type=str, default='model',\n",
        "                        help='directory to store checkpointed models')\n",
        "    parser.add_argument('--num_words', type=int, default=20000,\n",
        "                        help='Number of words to keep from the dataset')\n",
        "    parser.add_argument('--max_sequence_len', type=int, default=56,\n",
        "                        help='Maximum input sequence length')\n",
        "    parser.add_argument('--validation_split', type=float, default=0.1,\n",
        "                        help='Fraction of data to be used for validation')\n",
        "    parser.add_argument('--embedding_dim', type=int, default=200,\n",
        "                        help='Dimension of the embedding space to be used')\n",
        "    parser.add_argument('--model_name', type=str, default='cnn-static',\n",
        "                        help='Name of the model variant, from the CNN Sentence '\n",
        "                             'Classifier paper. Possible values are cnn-rand, cnn-static'\n",
        "                             'cnn-non-static. If nothing is specified, it uses the arguments'\n",
        "                             'passed to the script to define the hyperparameters. To add'\n",
        "                             'your own model, pass model_name as self, define your model in'\n",
        "                             'app/model/model.py and invoke from model_selector function.')\n",
        "    parser.add_argument('--batch_size', type=int, default=64,\n",
        "                        help='minibatch size')\n",
        "    parser.add_argument('--num_epochs', type=int, default=10,\n",
        "                        help='number of epochs')\n",
        "    parser.add_argument('--grad_clip', type=float, default=5.,\n",
        "                        help='clip gradients at this value')\n",
        "    parser.add_argument('--learning_rate', type=float, default=0.001,\n",
        "                        help='learning rate')\n",
        "    parser.add_argument('--decay_rate', type=float, default=0.0,\n",
        "                        help='decay rate for rmsprop')\n",
        "    parser.add_argument(\"-f\", \"--file\", required=False) \n",
        "    # parser.add_argument('--device', type=str, default='/cpu:0',\n",
        "    #                     help='Computing device to use for training. \\\n",
        "    #                     \\'/cpu:0\\' to use CPU of the machine.\\\n",
        "    #                     \\'/gpu:0\\' to use the first GPU of the machine (if there is a GPU).\\\n",
        "    #                     \\'/gpu:1\\' to use the second GPU of the machine and so on.')\n",
        "    return parser.parse_args()"
      ],
      "metadata": {
        "id": "vPOXLBfSDDwn"
      },
      "execution_count": 60,
      "outputs": []
    },
    {
      "cell_type": "markdown",
      "source": [
        "## CNN Static"
      ],
      "metadata": {
        "id": "XC3yiObQl3gE"
      }
    },
    {
      "cell_type": "code",
      "source": [
        "args_static = ArgumentParser_cnn_static()"
      ],
      "metadata": {
        "id": "XNUzz4EPDLT7"
      },
      "execution_count": 61,
      "outputs": []
    },
    {
      "cell_type": "code",
      "source": [
        "train(args_static)"
      ],
      "metadata": {
        "colab": {
          "base_uri": "https://localhost:8080/"
        },
        "id": "RDhJT_VvDLkt",
        "outputId": "84b42d49-af86-412d-f275-4559fa08ebe9"
      },
      "execution_count": 62,
      "outputs": [
        {
          "output_type": "stream",
          "name": "stdout",
          "text": [
            "Reading word vectors.\n",
            "Found 400000 word vectors.\n",
            "Processing input data\n",
            "Found 10662 texts.\n",
            "Found 19498 unique tokens.\n",
            "Generated 10662 sequences.\n",
            "Shape of data tensor: (10662, 56)\n",
            "Shape of label tensor: (10662, 2)\n",
            "Training on 9596 sequences.\n",
            "Preparing embedding matrix.\n",
            "Defining model.\n",
            "Epoch 1/10\n",
            "150/150 [==============================] - ETA: 0s - loss: 0.6973 - acc: 0.5732\n",
            "Epoch 1: val_loss improved from inf to 0.57052, saving model to model/weights.best.hdf5\n",
            "150/150 [==============================] - 3s 14ms/step - loss: 0.6973 - acc: 0.5732 - val_loss: 0.5705 - val_acc: 0.7233\n",
            "Epoch 2/10\n",
            "147/150 [============================>.] - ETA: 0s - loss: 0.5853 - acc: 0.6926\n",
            "Epoch 2: val_loss improved from 0.57052 to 0.53216, saving model to model/weights.best.hdf5\n",
            "150/150 [==============================] - 1s 7ms/step - loss: 0.5852 - acc: 0.6927 - val_loss: 0.5322 - val_acc: 0.7420\n",
            "Epoch 3/10\n",
            "144/150 [===========================>..] - ETA: 0s - loss: 0.5459 - acc: 0.7270\n",
            "Epoch 3: val_loss improved from 0.53216 to 0.51465, saving model to model/weights.best.hdf5\n",
            "150/150 [==============================] - 1s 8ms/step - loss: 0.5472 - acc: 0.7255 - val_loss: 0.5147 - val_acc: 0.7495\n",
            "Epoch 4/10\n",
            "141/150 [===========================>..] - ETA: 0s - loss: 0.5176 - acc: 0.7409\n",
            "Epoch 4: val_loss improved from 0.51465 to 0.48400, saving model to model/weights.best.hdf5\n",
            "150/150 [==============================] - 1s 7ms/step - loss: 0.5160 - acc: 0.7436 - val_loss: 0.4840 - val_acc: 0.7702\n",
            "Epoch 5/10\n",
            "141/150 [===========================>..] - ETA: 0s - loss: 0.4880 - acc: 0.7595\n",
            "Epoch 5: val_loss did not improve from 0.48400\n",
            "150/150 [==============================] - 1s 5ms/step - loss: 0.4899 - acc: 0.7580 - val_loss: 0.4983 - val_acc: 0.7664\n",
            "Epoch 6/10\n",
            "150/150 [==============================] - ETA: 0s - loss: 0.4638 - acc: 0.7727\n",
            "Epoch 6: val_loss improved from 0.48400 to 0.48185, saving model to model/weights.best.hdf5\n",
            "150/150 [==============================] - 1s 6ms/step - loss: 0.4638 - acc: 0.7727 - val_loss: 0.4819 - val_acc: 0.7589\n",
            "Epoch 7/10\n",
            "141/150 [===========================>..] - ETA: 0s - loss: 0.4214 - acc: 0.7982\n",
            "Epoch 7: val_loss improved from 0.48185 to 0.47035, saving model to model/weights.best.hdf5\n",
            "150/150 [==============================] - 1s 6ms/step - loss: 0.4231 - acc: 0.7971 - val_loss: 0.4704 - val_acc: 0.7767\n",
            "Epoch 8/10\n",
            "144/150 [===========================>..] - ETA: 0s - loss: 0.4029 - acc: 0.8190\n",
            "Epoch 8: val_loss improved from 0.47035 to 0.46448, saving model to model/weights.best.hdf5\n",
            "150/150 [==============================] - 1s 6ms/step - loss: 0.4023 - acc: 0.8194 - val_loss: 0.4645 - val_acc: 0.7739\n",
            "Epoch 9/10\n",
            "140/150 [===========================>..] - ETA: 0s - loss: 0.3702 - acc: 0.8299\n",
            "Epoch 9: val_loss did not improve from 0.46448\n",
            "150/150 [==============================] - 1s 5ms/step - loss: 0.3694 - acc: 0.8299 - val_loss: 0.4919 - val_acc: 0.7580\n",
            "Epoch 10/10\n",
            "146/150 [============================>.] - ETA: 0s - loss: 0.3327 - acc: 0.8539\n",
            "Epoch 10: val_loss did not improve from 0.46448\n",
            "150/150 [==============================] - 1s 5ms/step - loss: 0.3333 - acc: 0.8537 - val_loss: 0.4996 - val_acc: 0.7636\n"
          ]
        }
      ]
    },
    {
      "cell_type": "code",
      "source": [
        "def ArgumentParser_cnn_non_static():\n",
        "    parser = argparse.ArgumentParser()\n",
        "    parser.add_argument('--data_dir', type=str, default='data',\n",
        "                        help='data directory containing input.txt and label.txt')\n",
        "    parser.add_argument('--embedding_file_path', type=str, default='vectors.txt',\n",
        "                        help='path to file for embedding vectors')\n",
        "    parser.add_argument('--model_dir', type=str, default='model',\n",
        "                        help='directory to store checkpointed models')\n",
        "    parser.add_argument('--num_words', type=int, default=20000,\n",
        "                        help='Number of words to keep from the dataset')\n",
        "    parser.add_argument('--max_sequence_len', type=int, default=56,\n",
        "                        help='Maximum input sequence length')\n",
        "    parser.add_argument('--validation_split', type=float, default=0.2,\n",
        "                        help='Fraction of data to be used for validation')\n",
        "    parser.add_argument('--embedding_dim', type=int, default=200,\n",
        "                        help='Dimension of the embedding space to be used')\n",
        "    parser.add_argument('--model_name', type=str, default='cnn-non-static',\n",
        "                        help='Name of the model variant, from the CNN Sentence '\n",
        "                             'Classifier paper. Possible values are cnn-rand, cnn-static'\n",
        "                             'cnn-non-static. If nothing is specified, it uses the arguments'\n",
        "                             'passed to the script to define the hyperparameters. To add'\n",
        "                             'your own model, pass model_name as self, define your model in'\n",
        "                             'app/model/model.py and invoke from model_selector function.')\n",
        "    parser.add_argument('--batch_size', type=int, default=64,\n",
        "                        help='minibatch size')\n",
        "    parser.add_argument('--num_epochs', type=int, default=10,\n",
        "                        help='number of epochs')\n",
        "    parser.add_argument('--grad_clip', type=float, default=5.,\n",
        "                        help='clip gradients at this value')\n",
        "    parser.add_argument('--learning_rate', type=float, default=0.001,\n",
        "                        help='learning rate')\n",
        "    parser.add_argument('--decay_rate', type=float, default=0.0,\n",
        "                        help='decay rate for rmsprop')\n",
        "    parser.add_argument(\"-f\", \"--file\", required=False) \n",
        "    # parser.add_argument('--device', type=str, default='/cpu:0',\n",
        "    #                     help='Computing device to use for training. \\\n",
        "    #                     \\'/cpu:0\\' to use CPU of the machine.\\\n",
        "    #                     \\'/gpu:0\\' to use the first GPU of the machine (if there is a GPU).\\\n",
        "    #                     \\'/gpu:1\\' to use the second GPU of the machine and so on.')\n",
        "    return parser.parse_args()"
      ],
      "metadata": {
        "id": "wx0OXujsFtdK"
      },
      "execution_count": 63,
      "outputs": []
    },
    {
      "cell_type": "markdown",
      "source": [
        "## CNN Non Static"
      ],
      "metadata": {
        "id": "Y_DYItexl8m9"
      }
    },
    {
      "cell_type": "code",
      "source": [
        "args_non_static = ArgumentParser_cnn_non_static()\n",
        "train(args_non_static)"
      ],
      "metadata": {
        "colab": {
          "base_uri": "https://localhost:8080/"
        },
        "id": "lYkT0rPCF0D7",
        "outputId": "dd7c033a-da6b-44dc-a2e9-26f3da7adbb9"
      },
      "execution_count": 64,
      "outputs": [
        {
          "output_type": "stream",
          "name": "stdout",
          "text": [
            "Reading word vectors.\n",
            "Found 400000 word vectors.\n",
            "Processing input data\n",
            "Found 10662 texts.\n",
            "Found 19498 unique tokens.\n",
            "Generated 10662 sequences.\n",
            "Shape of data tensor: (10662, 56)\n",
            "Shape of label tensor: (10662, 2)\n",
            "Training on 8530 sequences.\n",
            "Preparing embedding matrix.\n",
            "Defining model.\n",
            "Epoch 1/10\n",
            "129/134 [===========================>..] - ETA: 0s - loss: 0.6958 - acc: 0.5768\n",
            "Epoch 1: val_loss improved from inf to 0.56838, saving model to model/weights.best.hdf5\n",
            "134/134 [==============================] - 3s 13ms/step - loss: 0.6925 - acc: 0.5802 - val_loss: 0.5684 - val_acc: 0.7172\n",
            "Epoch 2/10\n",
            "133/134 [============================>.] - ETA: 0s - loss: 0.5372 - acc: 0.7273\n",
            "Epoch 2: val_loss improved from 0.56838 to 0.49943, saving model to model/weights.best.hdf5\n",
            "134/134 [==============================] - 1s 10ms/step - loss: 0.5373 - acc: 0.7273 - val_loss: 0.4994 - val_acc: 0.7720\n",
            "Epoch 3/10\n",
            "132/134 [============================>.] - ETA: 0s - loss: 0.4313 - acc: 0.8005\n",
            "Epoch 3: val_loss improved from 0.49943 to 0.48460, saving model to model/weights.best.hdf5\n",
            "134/134 [==============================] - 1s 10ms/step - loss: 0.4310 - acc: 0.8006 - val_loss: 0.4846 - val_acc: 0.7706\n",
            "Epoch 4/10\n",
            "130/134 [============================>.] - ETA: 0s - loss: 0.3406 - acc: 0.8536\n",
            "Epoch 4: val_loss improved from 0.48460 to 0.44804, saving model to model/weights.best.hdf5\n",
            "134/134 [==============================] - 1s 10ms/step - loss: 0.3404 - acc: 0.8540 - val_loss: 0.4480 - val_acc: 0.7917\n",
            "Epoch 5/10\n",
            "127/134 [===========================>..] - ETA: 0s - loss: 0.2620 - acc: 0.8927\n",
            "Epoch 5: val_loss did not improve from 0.44804\n",
            "134/134 [==============================] - 1s 9ms/step - loss: 0.2621 - acc: 0.8926 - val_loss: 0.4777 - val_acc: 0.7777\n",
            "Epoch 6/10\n",
            "131/134 [============================>.] - ETA: 0s - loss: 0.2015 - acc: 0.9178\n",
            "Epoch 6: val_loss did not improve from 0.44804\n",
            "134/134 [==============================] - 1s 8ms/step - loss: 0.2014 - acc: 0.9177 - val_loss: 0.4894 - val_acc: 0.7866\n",
            "Epoch 7/10\n",
            "132/134 [============================>.] - ETA: 0s - loss: 0.1522 - acc: 0.9426\n",
            "Epoch 7: val_loss did not improve from 0.44804\n",
            "134/134 [==============================] - 1s 9ms/step - loss: 0.1523 - acc: 0.9424 - val_loss: 0.5198 - val_acc: 0.7833\n",
            "Epoch 8/10\n",
            "131/134 [============================>.] - ETA: 0s - loss: 0.1135 - acc: 0.9587\n",
            "Epoch 8: val_loss did not improve from 0.44804\n",
            "134/134 [==============================] - 1s 9ms/step - loss: 0.1136 - acc: 0.9587 - val_loss: 0.5746 - val_acc: 0.7847\n",
            "Epoch 9/10\n",
            "129/134 [===========================>..] - ETA: 0s - loss: 0.0911 - acc: 0.9674\n",
            "Epoch 9: val_loss did not improve from 0.44804\n",
            "134/134 [==============================] - 1s 10ms/step - loss: 0.0909 - acc: 0.9678 - val_loss: 0.5963 - val_acc: 0.7927\n",
            "Epoch 10/10\n",
            "133/134 [============================>.] - ETA: 0s - loss: 0.0731 - acc: 0.9731\n",
            "Epoch 10: val_loss did not improve from 0.44804\n",
            "134/134 [==============================] - 1s 9ms/step - loss: 0.0731 - acc: 0.9732 - val_loss: 0.6458 - val_acc: 0.7875\n"
          ]
        }
      ]
    },
    {
      "cell_type": "code",
      "source": [
        "def ArgumentParser_cnn_multi():\n",
        "    parser = argparse.ArgumentParser()\n",
        "    parser.add_argument('--data_dir', type=str, default='data',\n",
        "                        help='data directory containing input.txt and label.txt')\n",
        "    parser.add_argument('--embedding_file_path', type=str, default='vectors.txt',\n",
        "                        help='path to file for embedding vectors')\n",
        "    parser.add_argument('--model_dir', type=str, default='model',\n",
        "                        help='directory to store checkpointed models')\n",
        "    parser.add_argument('--num_words', type=int, default=20000,\n",
        "                        help='Number of words to keep from the dataset')\n",
        "    parser.add_argument('--max_sequence_len', type=int, default=56,\n",
        "                        help='Maximum input sequence length')\n",
        "    parser.add_argument('--validation_split', type=float, default=0.2,\n",
        "                        help='Fraction of data to be used for validation')\n",
        "    parser.add_argument('--embedding_dim', type=int, default=200,\n",
        "                        help='Dimension of the embedding space to be used')\n",
        "    parser.add_argument('--model_name', type=str, default='cnn-multi',\n",
        "                        help='Name of the model variant, from the CNN Sentence '\n",
        "                             'Classifier paper. Possible values are cnn-rand, cnn-static'\n",
        "                             'cnn-non-static. If nothing is specified, it uses the arguments'\n",
        "                             'passed to the script to define the hyperparameters. To add'\n",
        "                             'your own model, pass model_name as self, define your model in'\n",
        "                             'app/model/model.py and invoke from model_selector function.')\n",
        "    parser.add_argument('--batch_size', type=int, default=64,\n",
        "                        help='minibatch size')\n",
        "    parser.add_argument('--num_epochs', type=int, default=10,\n",
        "                        help='number of epochs')\n",
        "    parser.add_argument('--grad_clip', type=float, default=5.,\n",
        "                        help='clip gradients at this value')\n",
        "    parser.add_argument('--learning_rate', type=float, default=0.001,\n",
        "                        help='learning rate')\n",
        "    parser.add_argument('--decay_rate', type=float, default=0.0,\n",
        "                        help='decay rate for rmsprop')\n",
        "    parser.add_argument(\"-f\", \"--file\", required=False) \n",
        "    # parser.add_argument('--device', type=str, default='/cpu:0',\n",
        "    #                     help='Computing device to use for training. \\\n",
        "    #                     \\'/cpu:0\\' to use CPU of the machine.\\\n",
        "    #                     \\'/gpu:0\\' to use the first GPU of the machine (if there is a GPU).\\\n",
        "    #                     \\'/gpu:1\\' to use the second GPU of the machine and so on.')\n",
        "    return parser.parse_args()"
      ],
      "metadata": {
        "id": "FRToULsElYr0"
      },
      "execution_count": 65,
      "outputs": []
    },
    {
      "cell_type": "markdown",
      "source": [
        "## CNN Multi channel"
      ],
      "metadata": {
        "id": "zKxJH_bFmALj"
      }
    },
    {
      "cell_type": "code",
      "source": [
        "args_multi = ArgumentParser_cnn_multi()\n",
        "train(args_multi)"
      ],
      "metadata": {
        "colab": {
          "base_uri": "https://localhost:8080/"
        },
        "id": "QqHCZ1YxlhMr",
        "outputId": "8dc7c220-185d-4c83-be6e-ddae994ac2df"
      },
      "execution_count": 66,
      "outputs": [
        {
          "output_type": "stream",
          "name": "stdout",
          "text": [
            "Reading word vectors.\n",
            "Found 400000 word vectors.\n",
            "Processing input data\n",
            "Found 10662 texts.\n",
            "Found 19498 unique tokens.\n",
            "Generated 10662 sequences.\n",
            "Shape of data tensor: (10662, 56)\n",
            "Shape of label tensor: (10662, 2)\n",
            "Training on 8530 sequences.\n",
            "Preparing embedding matrix.\n",
            "Defining model.\n"
          ]
        },
        {
          "output_type": "stream",
          "name": "stderr",
          "text": [
            "/usr/local/lib/python3.10/dist-packages/keras/optimizers/legacy/rmsprop.py:143: UserWarning: The `lr` argument is deprecated, use `learning_rate` instead.\n",
            "  super().__init__(name, **kwargs)\n"
          ]
        },
        {
          "output_type": "stream",
          "name": "stdout",
          "text": [
            "Epoch 1/10\n",
            "134/134 [==============================] - ETA: 0s - loss: 0.7098 - acc: 0.6246\n",
            "Epoch 1: val_loss improved from inf to 0.53085, saving model to model/weights.best.hdf5\n",
            "134/134 [==============================] - 3s 14ms/step - loss: 0.7098 - acc: 0.6246 - val_loss: 0.5309 - val_acc: 0.7392\n",
            "Epoch 2/10\n",
            "129/134 [===========================>..] - ETA: 0s - loss: 0.4837 - acc: 0.7695\n",
            "Epoch 2: val_loss improved from 0.53085 to 0.49774, saving model to model/weights.best.hdf5\n",
            "134/134 [==============================] - 1s 10ms/step - loss: 0.4875 - acc: 0.7673 - val_loss: 0.4977 - val_acc: 0.7627\n",
            "Epoch 3/10\n",
            "131/134 [============================>.] - ETA: 0s - loss: 0.3675 - acc: 0.8430\n",
            "Epoch 3: val_loss did not improve from 0.49774\n",
            "134/134 [==============================] - 1s 9ms/step - loss: 0.3683 - acc: 0.8423 - val_loss: 0.5185 - val_acc: 0.7552\n",
            "Epoch 4/10\n",
            "132/134 [============================>.] - ETA: 0s - loss: 0.2525 - acc: 0.8967\n",
            "Epoch 4: val_loss did not improve from 0.49774\n",
            "134/134 [==============================] - 1s 9ms/step - loss: 0.2526 - acc: 0.8965 - val_loss: 0.6350 - val_acc: 0.7547\n",
            "Epoch 5/10\n",
            "133/134 [============================>.] - ETA: 0s - loss: 0.1708 - acc: 0.9366\n",
            "Epoch 5: val_loss did not improve from 0.49774\n",
            "134/134 [==============================] - 1s 9ms/step - loss: 0.1706 - acc: 0.9367 - val_loss: 0.6852 - val_acc: 0.7505\n",
            "Epoch 6/10\n",
            "133/134 [============================>.] - ETA: 0s - loss: 0.1097 - acc: 0.9562\n",
            "Epoch 6: val_loss did not improve from 0.49774\n",
            "134/134 [==============================] - 1s 10ms/step - loss: 0.1102 - acc: 0.9562 - val_loss: 0.7936 - val_acc: 0.7425\n",
            "Epoch 7/10\n",
            "131/134 [============================>.] - ETA: 0s - loss: 0.0792 - acc: 0.9716\n",
            "Epoch 7: val_loss did not improve from 0.49774\n",
            "134/134 [==============================] - 1s 11ms/step - loss: 0.0803 - acc: 0.9713 - val_loss: 0.9117 - val_acc: 0.7514\n",
            "Epoch 8/10\n",
            "128/134 [===========================>..] - ETA: 0s - loss: 0.0580 - acc: 0.9771\n",
            "Epoch 8: val_loss did not improve from 0.49774\n",
            "134/134 [==============================] - 1s 10ms/step - loss: 0.0594 - acc: 0.9766 - val_loss: 1.0146 - val_acc: 0.7575\n",
            "Epoch 9/10\n",
            "130/134 [============================>.] - ETA: 0s - loss: 0.0513 - acc: 0.9834\n",
            "Epoch 9: val_loss did not improve from 0.49774\n",
            "134/134 [==============================] - 1s 9ms/step - loss: 0.0514 - acc: 0.9835 - val_loss: 1.2751 - val_acc: 0.7505\n",
            "Epoch 10/10\n",
            "133/134 [============================>.] - ETA: 0s - loss: 0.0369 - acc: 0.9877\n",
            "Epoch 10: val_loss did not improve from 0.49774\n",
            "134/134 [==============================] - 1s 9ms/step - loss: 0.0368 - acc: 0.9877 - val_loss: 1.6144 - val_acc: 0.7341\n"
          ]
        }
      ]
    },
    {
      "cell_type": "markdown",
      "metadata": {
        "id": "lQHwNPrpMatK"
      },
      "source": [
        "# Sentence classification with BERT"
      ]
    },
    {
      "cell_type": "code",
      "source": [
        "!pip install pytorch-nlp\n",
        "!pip install pytorch-pretrained-bert"
      ],
      "metadata": {
        "colab": {
          "base_uri": "https://localhost:8080/"
        },
        "id": "t-KaSeignIrN",
        "outputId": "5ad9333a-80c1-482d-aa27-3da68cac428c"
      },
      "execution_count": 10,
      "outputs": [
        {
          "output_type": "stream",
          "name": "stdout",
          "text": [
            "Looking in indexes: https://pypi.org/simple, https://us-python.pkg.dev/colab-wheels/public/simple/\n",
            "Collecting pytorch-nlp\n",
            "  Downloading pytorch_nlp-0.5.0-py3-none-any.whl (90 kB)\n",
            "\u001b[2K     \u001b[90m━━━━━━━━━━━━━━━━━━━━━━━━━━━━━━━━━━━━━━━━\u001b[0m \u001b[32m90.1/90.1 kB\u001b[0m \u001b[31m10.1 MB/s\u001b[0m eta \u001b[36m0:00:00\u001b[0m\n",
            "\u001b[?25hRequirement already satisfied: tqdm in /usr/local/lib/python3.10/dist-packages (from pytorch-nlp) (4.65.0)\n",
            "Requirement already satisfied: numpy in /usr/local/lib/python3.10/dist-packages (from pytorch-nlp) (1.22.4)\n",
            "Installing collected packages: pytorch-nlp\n",
            "Successfully installed pytorch-nlp-0.5.0\n",
            "Looking in indexes: https://pypi.org/simple, https://us-python.pkg.dev/colab-wheels/public/simple/\n",
            "Collecting pytorch-pretrained-bert\n",
            "  Downloading pytorch_pretrained_bert-0.6.2-py3-none-any.whl (123 kB)\n",
            "\u001b[2K     \u001b[90m━━━━━━━━━━━━━━━━━━━━━━━━━━━━━━━━━━━━━━━\u001b[0m \u001b[32m123.8/123.8 kB\u001b[0m \u001b[31m9.6 MB/s\u001b[0m eta \u001b[36m0:00:00\u001b[0m\n",
            "\u001b[?25hCollecting boto3\n",
            "  Downloading boto3-1.26.122-py3-none-any.whl (135 kB)\n",
            "\u001b[2K     \u001b[90m━━━━━━━━━━━━━━━━━━━━━━━━━━━━━━━━━━━━━━\u001b[0m \u001b[32m135.6/135.6 kB\u001b[0m \u001b[31m18.9 MB/s\u001b[0m eta \u001b[36m0:00:00\u001b[0m\n",
            "\u001b[?25hRequirement already satisfied: torch>=0.4.1 in /usr/local/lib/python3.10/dist-packages (from pytorch-pretrained-bert) (2.0.0+cu118)\n",
            "Requirement already satisfied: numpy in /usr/local/lib/python3.10/dist-packages (from pytorch-pretrained-bert) (1.22.4)\n",
            "Requirement already satisfied: regex in /usr/local/lib/python3.10/dist-packages (from pytorch-pretrained-bert) (2022.10.31)\n",
            "Requirement already satisfied: tqdm in /usr/local/lib/python3.10/dist-packages (from pytorch-pretrained-bert) (4.65.0)\n",
            "Requirement already satisfied: requests in /usr/local/lib/python3.10/dist-packages (from pytorch-pretrained-bert) (2.27.1)\n",
            "Requirement already satisfied: typing-extensions in /usr/local/lib/python3.10/dist-packages (from torch>=0.4.1->pytorch-pretrained-bert) (4.5.0)\n",
            "Requirement already satisfied: sympy in /usr/local/lib/python3.10/dist-packages (from torch>=0.4.1->pytorch-pretrained-bert) (1.11.1)\n",
            "Requirement already satisfied: networkx in /usr/local/lib/python3.10/dist-packages (from torch>=0.4.1->pytorch-pretrained-bert) (3.1)\n",
            "Requirement already satisfied: filelock in /usr/local/lib/python3.10/dist-packages (from torch>=0.4.1->pytorch-pretrained-bert) (3.12.0)\n",
            "Requirement already satisfied: jinja2 in /usr/local/lib/python3.10/dist-packages (from torch>=0.4.1->pytorch-pretrained-bert) (3.1.2)\n",
            "Requirement already satisfied: triton==2.0.0 in /usr/local/lib/python3.10/dist-packages (from torch>=0.4.1->pytorch-pretrained-bert) (2.0.0)\n",
            "Requirement already satisfied: cmake in /usr/local/lib/python3.10/dist-packages (from triton==2.0.0->torch>=0.4.1->pytorch-pretrained-bert) (3.25.2)\n",
            "Requirement already satisfied: lit in /usr/local/lib/python3.10/dist-packages (from triton==2.0.0->torch>=0.4.1->pytorch-pretrained-bert) (16.0.2)\n",
            "Collecting botocore<1.30.0,>=1.29.122\n",
            "  Downloading botocore-1.29.122-py3-none-any.whl (10.7 MB)\n",
            "\u001b[2K     \u001b[90m━━━━━━━━━━━━━━━━━━━━━━━━━━━━━━━━━━━━━━━\u001b[0m \u001b[32m10.7/10.7 MB\u001b[0m \u001b[31m106.4 MB/s\u001b[0m eta \u001b[36m0:00:00\u001b[0m\n",
            "\u001b[?25hCollecting s3transfer<0.7.0,>=0.6.0\n",
            "  Downloading s3transfer-0.6.0-py3-none-any.whl (79 kB)\n",
            "\u001b[2K     \u001b[90m━━━━━━━━━━━━━━━━━━━━━━━━━━━━━━━━━━━━━━━━\u001b[0m \u001b[32m79.6/79.6 kB\u001b[0m \u001b[31m10.6 MB/s\u001b[0m eta \u001b[36m0:00:00\u001b[0m\n",
            "\u001b[?25hCollecting jmespath<2.0.0,>=0.7.1\n",
            "  Downloading jmespath-1.0.1-py3-none-any.whl (20 kB)\n",
            "Requirement already satisfied: urllib3<1.27,>=1.21.1 in /usr/local/lib/python3.10/dist-packages (from requests->pytorch-pretrained-bert) (1.26.15)\n",
            "Requirement already satisfied: certifi>=2017.4.17 in /usr/local/lib/python3.10/dist-packages (from requests->pytorch-pretrained-bert) (2022.12.7)\n",
            "Requirement already satisfied: idna<4,>=2.5 in /usr/local/lib/python3.10/dist-packages (from requests->pytorch-pretrained-bert) (3.4)\n",
            "Requirement already satisfied: charset-normalizer~=2.0.0 in /usr/local/lib/python3.10/dist-packages (from requests->pytorch-pretrained-bert) (2.0.12)\n",
            "Requirement already satisfied: python-dateutil<3.0.0,>=2.1 in /usr/local/lib/python3.10/dist-packages (from botocore<1.30.0,>=1.29.122->boto3->pytorch-pretrained-bert) (2.8.2)\n",
            "Requirement already satisfied: MarkupSafe>=2.0 in /usr/local/lib/python3.10/dist-packages (from jinja2->torch>=0.4.1->pytorch-pretrained-bert) (2.1.2)\n",
            "Requirement already satisfied: mpmath>=0.19 in /usr/local/lib/python3.10/dist-packages (from sympy->torch>=0.4.1->pytorch-pretrained-bert) (1.3.0)\n",
            "Requirement already satisfied: six>=1.5 in /usr/local/lib/python3.10/dist-packages (from python-dateutil<3.0.0,>=2.1->botocore<1.30.0,>=1.29.122->boto3->pytorch-pretrained-bert) (1.16.0)\n",
            "Installing collected packages: jmespath, botocore, s3transfer, boto3, pytorch-pretrained-bert\n",
            "Successfully installed boto3-1.26.122 botocore-1.29.122 jmespath-1.0.1 pytorch-pretrained-bert-0.6.2 s3transfer-0.6.0\n"
          ]
        }
      ]
    },
    {
      "cell_type": "code",
      "source": [
        "import sys\n",
        "import numpy as np\n",
        "import random as rn\n",
        "import pandas as pd\n",
        "import torch\n",
        "from pytorch_pretrained_bert import BertModel\n",
        "from torch import nn\n",
        "# from torchnlp.datasets import imdb_dataset      # --> We are using our own uploaded dataset.\n",
        "from pytorch_pretrained_bert import BertTokenizer\n",
        "from tensorflow import keras \n",
        "from keras.utils import pad_sequences\n",
        "from torch.utils.data import TensorDataset, DataLoader, RandomSampler, SequentialSampler\n",
        "from torch.optim import Adam\n",
        "from torch.nn.utils import clip_grad_norm_\n",
        "from IPython.display import clear_output\n",
        "import matplotlib.pyplot as plt\n",
        "%matplotlib inline"
      ],
      "metadata": {
        "id": "mhr8ZVfSnbzt"
      },
      "execution_count": 11,
      "outputs": []
    },
    {
      "cell_type": "code",
      "source": [
        "rn.seed(321)\n",
        "np.random.seed(321)\n",
        "torch.manual_seed(321)\n",
        "torch.cuda.manual_seed(321)"
      ],
      "metadata": {
        "id": "NUHqQoPund-D"
      },
      "execution_count": 12,
      "outputs": []
    },
    {
      "cell_type": "markdown",
      "source": [
        "seperate train and test sets"
      ],
      "metadata": {
        "id": "FgSF0aE6oZQz"
      }
    },
    {
      "cell_type": "code",
      "source": [
        "train_texts, test_texts, train_labels, test_labels = train_test_split(data, labels, test_size=0.2, random_state=42)"
      ],
      "metadata": {
        "id": "hiHKaY16nhj7"
      },
      "execution_count": 13,
      "outputs": []
    },
    {
      "cell_type": "markdown",
      "source": [
        "reduce train and test size"
      ],
      "metadata": {
        "id": "9Wf5hejtp8Tz"
      }
    },
    {
      "cell_type": "code",
      "source": [
        "import math\n",
        "\n",
        "train_size = math.ceil(8000)\n",
        "test_size = math.ceil(2000)\n",
        "\n",
        "train_texts, train_labels = train_texts[:train_size], train_labels[:train_size]\n",
        "test_texts, test_labels = test_texts[:test_size], test_labels[:test_size]\n",
        "\n",
        "train_data = train_texts\n",
        "\n",
        "print(\"Train size = \", train_size)"
      ],
      "metadata": {
        "colab": {
          "base_uri": "https://localhost:8080/"
        },
        "id": "6QU2Il8lodgr",
        "outputId": "b1de5341-8ded-41a8-83c1-185a50eba7de"
      },
      "execution_count": 14,
      "outputs": [
        {
          "output_type": "stream",
          "name": "stdout",
          "text": [
            "Train size =  8000\n"
          ]
        }
      ]
    },
    {
      "cell_type": "markdown",
      "source": [
        "visualizing sentences lengths"
      ],
      "metadata": {
        "id": "ixLkEjEFqy01"
      }
    },
    {
      "cell_type": "code",
      "source": [
        "sentences = [len(sent) for sent in train_texts]\n",
        "\n",
        "plt.rcParams.update({'figure.figsize':(7,5), 'figure.dpi':100})\n",
        "plt.bar(range(1,len(train_data)+1), sentences, color = ['red'])\n",
        "plt.gca().set(title='No. of characters in each sentence', xlabel='Number of sentence', ylabel='Number of Characters in each sentence');"
      ],
      "metadata": {
        "colab": {
          "base_uri": "https://localhost:8080/",
          "height": 487
        },
        "id": "typEoTgqqyMk",
        "outputId": "4ec6516e-6e0f-432f-bdb4-9b110d855d86"
      },
      "execution_count": 91,
      "outputs": [
        {
          "output_type": "display_data",
          "data": {
            "text/plain": [
              "<Figure size 700x500 with 1 Axes>"
            ],
            "image/png": "[encoded data removed]"
          },
          "metadata": {}
        }
      ]
    },
    {
      "cell_type": "code",
      "source": [
        "tokenizer = BertTokenizer.from_pretrained('bert-base-uncased', do_lower_case=True)"
      ],
      "metadata": {
        "id": "F0WLtdsJrHOI",
        "colab": {
          "base_uri": "https://localhost:8080/"
        },
        "outputId": "a698141b-dad6-4cea-eef3-6ab41f00a206"
      },
      "execution_count": 15,
      "outputs": [
        {
          "output_type": "stream",
          "name": "stderr",
          "text": [
            "100%|██████████| 231508/231508 [00:00<00:00, 340819.40B/s]\n"
          ]
        }
      ]
    },
    {
      "cell_type": "code",
      "source": [
        "tokenizer.tokenize('Hi my name is Simo')"
      ],
      "metadata": {
        "colab": {
          "base_uri": "https://localhost:8080/"
        },
        "id": "zT4OHQm1rKzz",
        "outputId": "3bf720a2-85cd-4de2-fdbf-745d4f0f46a9"
      },
      "execution_count": 16,
      "outputs": [
        {
          "output_type": "execute_result",
          "data": {
            "text/plain": [
              "['hi', 'my', 'name', 'is', 'sim', '##o']"
            ]
          },
          "metadata": {},
          "execution_count": 16
        }
      ]
    },
    {
      "cell_type": "code",
      "source": [
        "train_tokens = list(map(lambda t: ['[CLS]'] + tokenizer.tokenize(t)[:510] + ['[SEP]'], train_texts))\n",
        "test_tokens = list(map(lambda t: ['[CLS]'] + tokenizer.tokenize(t)[:510] + ['[SEP]'], test_texts))\n",
        "\n",
        "len(train_tokens), len(test_tokens)"
      ],
      "metadata": {
        "colab": {
          "base_uri": "https://localhost:8080/"
        },
        "id": "xTYwOyj5rNkX",
        "outputId": "2d2ce296-0d18-40d5-ea8b-fafdbf0f930b"
      },
      "execution_count": 17,
      "outputs": [
        {
          "output_type": "execute_result",
          "data": {
            "text/plain": [
              "(8000, 2000)"
            ]
          },
          "metadata": {},
          "execution_count": 17
        }
      ]
    },
    {
      "cell_type": "markdown",
      "source": [
        "prepare token ids"
      ],
      "metadata": {
        "id": "qir7QFb7rP3v"
      }
    },
    {
      "cell_type": "code",
      "source": [
        "train_tokens_ids = pad_sequences(list(map(tokenizer.convert_tokens_to_ids, train_tokens)), maxlen=512, truncating=\"post\", padding=\"post\", dtype=\"int\")\n",
        "test_tokens_ids = pad_sequences(list(map(tokenizer.convert_tokens_to_ids, test_tokens)), maxlen=512, truncating=\"post\", padding=\"post\", dtype=\"int\")\n",
        "\n",
        "train_tokens_ids.shape, test_tokens_ids.shape"
      ],
      "metadata": {
        "colab": {
          "base_uri": "https://localhost:8080/"
        },
        "id": "v2qfvP2UrTPV",
        "outputId": "dab34d22-b39d-46e2-a23c-a84e440acca9"
      },
      "execution_count": 18,
      "outputs": [
        {
          "output_type": "execute_result",
          "data": {
            "text/plain": [
              "((8000, 512), (2000, 512))"
            ]
          },
          "metadata": {},
          "execution_count": 18
        }
      ]
    },
    {
      "cell_type": "code",
      "source": [
        "train_y = np.array(train_labels)\n",
        "test_y = np.array(test_labels)\n",
        "train_y.shape, test_y.shape, np.mean(train_y), np.mean(test_y)"
      ],
      "metadata": {
        "colab": {
          "base_uri": "https://localhost:8080/"
        },
        "id": "kpHottN0rb6R",
        "outputId": "f7ba6849-fbc0-4f9e-c16d-07a2416435c5"
      },
      "execution_count": 19,
      "outputs": [
        {
          "output_type": "execute_result",
          "data": {
            "text/plain": [
              "((8000,), (2000,), 0.502, 0.488)"
            ]
          },
          "metadata": {},
          "execution_count": 19
        }
      ]
    },
    {
      "cell_type": "markdown",
      "source": [
        "Now Masking few random IDs from each sentences to remove Biasness from model."
      ],
      "metadata": {
        "id": "uaukoEjIrhnn"
      }
    },
    {
      "cell_type": "code",
      "source": [
        "train_masks = [[float(i > 0) for i in ii] for ii in train_tokens_ids]\n",
        "test_masks = [[float(i > 0) for i in ii] for ii in test_tokens_ids]"
      ],
      "metadata": {
        "id": "kFuLiChvriHc"
      },
      "execution_count": 20,
      "outputs": []
    },
    {
      "cell_type": "code",
      "source": [
        "class BertBinaryClassifier(nn.Module):\n",
        "    def __init__(self, dropout=0.1):\n",
        "        super(BertBinaryClassifier, self).__init__()\n",
        "\n",
        "        self.bert = BertModel.from_pretrained('bert-base-uncased')\n",
        "\n",
        "        self.dropout = nn.Dropout(dropout)\n",
        "        self.linear = nn.Linear(768, 1)\n",
        "        self.sigmoid = nn.Sigmoid()\n",
        "    \n",
        "    def forward(self, tokens, masks=None):\n",
        "        _, pooled_output = self.bert(tokens, attention_mask=masks, output_all_encoded_layers=False)\n",
        "        dropout_output = self.dropout(pooled_output)\n",
        "        linear_output = self.linear(dropout_output)\n",
        "        proba = self.sigmoid(linear_output)\n",
        "        return proba"
      ],
      "metadata": {
        "id": "2s5ri1eOrkVn"
      },
      "execution_count": 21,
      "outputs": []
    },
    {
      "cell_type": "code",
      "source": [
        "device = torch.device(\"cuda\" if torch.cuda.is_available() else \"cpu\")\n",
        "device"
      ],
      "metadata": {
        "colab": {
          "base_uri": "https://localhost:8080/"
        },
        "id": "mbsZbfIJrrZu",
        "outputId": "c8bf364e-bba5-4823-9e90-e113b57bd6f2"
      },
      "execution_count": 22,
      "outputs": [
        {
          "output_type": "execute_result",
          "data": {
            "text/plain": [
              "device(type='cuda')"
            ]
          },
          "metadata": {},
          "execution_count": 22
        }
      ]
    },
    {
      "cell_type": "code",
      "source": [
        "str(torch.cuda.memory_allocated(device)/1000000 ) + 'M'"
      ],
      "metadata": {
        "colab": {
          "base_uri": "https://localhost:8080/",
          "height": 35
        },
        "id": "yhlPn6qvrta1",
        "outputId": "26ce6228-9424-4b6e-efb9-53a4ce7d9c24"
      },
      "execution_count": 100,
      "outputs": [
        {
          "output_type": "execute_result",
          "data": {
            "text/plain": [
              "'0.0M'"
            ],
            "application/vnd.google.colaboratory.intrinsic+json": {
              "type": "string"
            }
          },
          "metadata": {},
          "execution_count": 100
        }
      ]
    },
    {
      "cell_type": "code",
      "source": [
        "! nvidia-smi"
      ],
      "metadata": {
        "colab": {
          "base_uri": "https://localhost:8080/"
        },
        "id": "jAT5EWV3rwFf",
        "outputId": "112c799e-0ca9-4afe-d8ee-eaf39a028768"
      },
      "execution_count": 101,
      "outputs": [
        {
          "output_type": "stream",
          "name": "stdout",
          "text": [
            "Thu Apr 27 22:14:28 2023       \n",
            "+-----------------------------------------------------------------------------+\n",
            "| NVIDIA-SMI 525.85.12    Driver Version: 525.85.12    CUDA Version: 12.0     |\n",
            "|-------------------------------+----------------------+----------------------+\n",
            "| GPU  Name        Persistence-M| Bus-Id        Disp.A | Volatile Uncorr. ECC |\n",
            "| Fan  Temp  Perf  Pwr:Usage/Cap|         Memory-Usage | GPU-Util  Compute M. |\n",
            "|                               |                      |               MIG M. |\n",
            "|===============================+======================+======================|\n",
            "|   0  Tesla T4            Off  | 00000000:00:04.0 Off |                    0 |\n",
            "| N/A   60C    P0    30W /  70W |   3043MiB / 15360MiB |      0%      Default |\n",
            "|                               |                      |                  N/A |\n",
            "+-------------------------------+----------------------+----------------------+\n",
            "                                                                               \n",
            "+-----------------------------------------------------------------------------+\n",
            "| Processes:                                                                  |\n",
            "|  GPU   GI   CI        PID   Type   Process name                  GPU Memory |\n",
            "|        ID   ID                                                   Usage      |\n",
            "|=============================================================================|\n",
            "+-----------------------------------------------------------------------------+\n"
          ]
        }
      ]
    },
    {
      "cell_type": "code",
      "source": [
        "torch.cuda.empty_cache()   # Clearing Cache space for a fresh Model run\n",
        "bert_clf = BertBinaryClassifier()\n",
        "bert_clf = bert_clf.cuda()     # running BERT on CUDA_GPU"
      ],
      "metadata": {
        "id": "HAHqC9GZryl1",
        "colab": {
          "base_uri": "https://localhost:8080/"
        },
        "outputId": "a6a890a1-4df8-4ec6-9a17-336a447c515a"
      },
      "execution_count": 102,
      "outputs": [
        {
          "output_type": "stream",
          "name": "stderr",
          "text": [
            "100%|██████████| 407873900/407873900 [00:32<00:00, 12510455.05B/s]\n"
          ]
        }
      ]
    },
    {
      "cell_type": "code",
      "source": [
        "x = torch.tensor(train_tokens_ids[:3]).to(device)\n",
        "y, pooled = bert_clf.bert(x, output_all_encoded_layers=False)\n",
        "x.shape, y.shape, pooled.shape"
      ],
      "metadata": {
        "colab": {
          "base_uri": "https://localhost:8080/"
        },
        "id": "gtWbZejVr0gR",
        "outputId": "86d526e1-aa0e-40e3-9627-13f313bc882a"
      },
      "execution_count": 103,
      "outputs": [
        {
          "output_type": "execute_result",
          "data": {
            "text/plain": [
              "(torch.Size([3, 512]), torch.Size([3, 512, 768]), torch.Size([3, 768]))"
            ]
          },
          "metadata": {},
          "execution_count": 103
        }
      ]
    },
    {
      "cell_type": "code",
      "source": [
        "y = bert_clf(x)\n",
        "y.cpu().detach().numpy()  "
      ],
      "metadata": {
        "colab": {
          "base_uri": "https://localhost:8080/"
        },
        "id": "teVcREA2r3hh",
        "outputId": "9f731cf0-2bc8-4672-c44f-fc61b85799e8"
      },
      "execution_count": 104,
      "outputs": [
        {
          "output_type": "execute_result",
          "data": {
            "text/plain": [
              "array([[0.40782222],\n",
              "       [0.41037586],\n",
              "       [0.386704  ]], dtype=float32)"
            ]
          },
          "metadata": {},
          "execution_count": 104
        }
      ]
    },
    {
      "cell_type": "code",
      "source": [
        "str(torch.cuda.memory_allocated(device)/1000000 ) + 'M'"
      ],
      "metadata": {
        "colab": {
          "base_uri": "https://localhost:8080/",
          "height": 35
        },
        "id": "auXcJLEar504",
        "outputId": "0444ade6-2b93-4d78-f87b-fd5729d23354"
      },
      "execution_count": 105,
      "outputs": [
        {
          "output_type": "execute_result",
          "data": {
            "text/plain": [
              "'6272.414208M'"
            ],
            "application/vnd.google.colaboratory.intrinsic+json": {
              "type": "string"
            }
          },
          "metadata": {},
          "execution_count": 105
        }
      ]
    },
    {
      "cell_type": "code",
      "source": [
        "y, x, pooled = None, None, None\n",
        "torch.cuda.empty_cache()     # Clearing Cache space for fresh Model run\n",
        "str(torch.cuda.memory_allocated(device)/1000000 ) + 'M'"
      ],
      "metadata": {
        "colab": {
          "base_uri": "https://localhost:8080/",
          "height": 35
        },
        "id": "W4M6mc0Mr8GQ",
        "outputId": "672b41e9-6038-4e4d-b3b2-750e01034962"
      },
      "execution_count": 106,
      "outputs": [
        {
          "output_type": "execute_result",
          "data": {
            "text/plain": [
              "'6272.414208M'"
            ],
            "application/vnd.google.colaboratory.intrinsic+json": {
              "type": "string"
            }
          },
          "metadata": {},
          "execution_count": 106
        }
      ]
    },
    {
      "cell_type": "code",
      "source": [
        "BATCH_SIZE = 8\n",
        "EPOCHS = 10"
      ],
      "metadata": {
        "id": "5i9ZHSINr98v"
      },
      "execution_count": 107,
      "outputs": []
    },
    {
      "cell_type": "code",
      "source": [
        "train_tokens_tensor = torch.tensor(train_tokens_ids)\n",
        "train_y_tensor = torch.tensor(train_y.reshape(-1, 1)).float()\n",
        "\n",
        "test_tokens_tensor = torch.tensor(test_tokens_ids)\n",
        "test_y_tensor = torch.tensor(test_y.reshape(-1, 1)).float()\n",
        "\n",
        "train_masks_tensor = torch.tensor(train_masks)\n",
        "test_masks_tensor = torch.tensor(test_masks)\n",
        "\n",
        "str(torch.cuda.memory_allocated(device)/1000000 ) + 'M'"
      ],
      "metadata": {
        "colab": {
          "base_uri": "https://localhost:8080/",
          "height": 35
        },
        "id": "1zzcuV33sAOz",
        "outputId": "2663d02d-0d28-4143-8b58-71b8602d47d3"
      },
      "execution_count": 108,
      "outputs": [
        {
          "output_type": "execute_result",
          "data": {
            "text/plain": [
              "'6272.393216M'"
            ],
            "application/vnd.google.colaboratory.intrinsic+json": {
              "type": "string"
            }
          },
          "metadata": {},
          "execution_count": 108
        }
      ]
    },
    {
      "cell_type": "code",
      "source": [
        "train_dataset = TensorDataset(train_tokens_tensor, train_masks_tensor, train_y_tensor)\n",
        "train_sampler = RandomSampler(train_dataset)\n",
        "train_dataloader = DataLoader(train_dataset, sampler=train_sampler, batch_size=BATCH_SIZE)\n",
        "\n",
        "test_dataset = TensorDataset(test_tokens_tensor, test_masks_tensor, test_y_tensor)\n",
        "test_sampler = SequentialSampler(test_dataset)\n",
        "test_dataloader = DataLoader(test_dataset, sampler=test_sampler, batch_size=BATCH_SIZE)"
      ],
      "metadata": {
        "id": "p5YWJEIgsCjA"
      },
      "execution_count": 109,
      "outputs": []
    },
    {
      "cell_type": "code",
      "source": [
        "param_optimizer = list(bert_clf.sigmoid.named_parameters()) \n",
        "optimizer_grouped_parameters = [{\"params\": [p for n, p in param_optimizer]}]"
      ],
      "metadata": {
        "id": "FFhhHR_CsDSo"
      },
      "execution_count": 110,
      "outputs": []
    },
    {
      "cell_type": "code",
      "source": [
        "optimizer = Adam(bert_clf.parameters(), lr=3e-6)"
      ],
      "metadata": {
        "id": "bb_646uasGOV"
      },
      "execution_count": 111,
      "outputs": []
    },
    {
      "cell_type": "code",
      "source": [
        "torch.cuda.empty_cache()   # Clearing Cache space for a fresh Model run"
      ],
      "metadata": {
        "id": "kQOb4KnxsIZc"
      },
      "execution_count": 112,
      "outputs": []
    },
    {
      "cell_type": "markdown",
      "source": [
        "##Train Bert"
      ],
      "metadata": {
        "id": "Zvg7il05sOoJ"
      }
    },
    {
      "cell_type": "code",
      "source": [
        "for epoch_num in range(EPOCHS):\n",
        "    bert_clf.train()\n",
        "    train_loss = 0\n",
        "    for step_num, batch_data in enumerate(train_dataloader):\n",
        "        token_ids, masks, labels = tuple(t.to(device) for t in batch_data)\n",
        "        print(str(torch.cuda.memory_allocated(device)/1000000 ) + 'M')\n",
        "        logits = bert_clf(token_ids, masks)\n",
        "        \n",
        "        loss_func = nn.BCELoss()\n",
        "\n",
        "        batch_loss = loss_func(logits, labels)\n",
        "        train_loss += batch_loss.item()\n",
        "        \n",
        "        \n",
        "        bert_clf.zero_grad()\n",
        "        batch_loss.backward()\n",
        "        \n",
        "\n",
        "        clip_grad_norm_(parameters=bert_clf.parameters(), max_norm=1.0)\n",
        "        optimizer.step()\n",
        "        \n",
        "        clear_output(wait=True)\n",
        "        print('Epoch: ', epoch_num + 1)\n",
        "        print(\"\\r\" + \"{0}/{1} loss: {2} \".format(step_num, len(train_data) / BATCH_SIZE, train_loss / (step_num + 1)))\n"
      ],
      "metadata": {
        "colab": {
          "base_uri": "https://localhost:8080/"
        },
        "id": "WVdpo1XesPqz",
        "outputId": "5964b24c-172c-465a-e2ec-89643820cf7f"
      },
      "execution_count": 113,
      "outputs": [
        {
          "output_type": "stream",
          "name": "stdout",
          "text": [
            "Epoch:  10\n",
            "\r999/1000.0 loss: 0.050909964466380186 \n"
          ]
        }
      ]
    },
    {
      "cell_type": "markdown",
      "source": [
        "##Evaluate bert"
      ],
      "metadata": {
        "id": "giZUSjfmsT-S"
      }
    },
    {
      "cell_type": "code",
      "source": [
        "bert_clf.eval()\n",
        "bert_predicted = []\n",
        "all_logits = []\n",
        "with torch.no_grad():\n",
        "    for step_num, batch_data in enumerate(test_dataloader):\n",
        "\n",
        "        token_ids, masks, labels = tuple(t.to(device) for t in batch_data)\n",
        "\n",
        "        logits = bert_clf(token_ids, masks)\n",
        "        loss_func = nn.BCELoss()\n",
        "        loss = loss_func(logits, labels)\n",
        "        numpy_logits = logits.cpu().detach().numpy()\n",
        "        \n",
        "        bert_predicted += list(numpy_logits[:, 0] > 0.5)\n",
        "        all_logits += list(numpy_logits[:, 0])"
      ],
      "metadata": {
        "id": "6OSHak6NsUwj"
      },
      "execution_count": 114,
      "outputs": []
    },
    {
      "cell_type": "code",
      "source": [
        "np.mean(bert_predicted)"
      ],
      "metadata": {
        "id": "PwnH_uSosWxy",
        "colab": {
          "base_uri": "https://localhost:8080/"
        },
        "outputId": "c0c5ecd3-9071-478b-cb7e-347e0c5fb486"
      },
      "execution_count": 115,
      "outputs": [
        {
          "output_type": "execute_result",
          "data": {
            "text/plain": [
              "0.5375"
            ]
          },
          "metadata": {},
          "execution_count": 115
        }
      ]
    },
    {
      "cell_type": "code",
      "source": [
        "from sklearn.metrics import classification_report\n",
        "from sklearn.metrics import accuracy_score\n",
        "print(classification_report(test_y, bert_predicted))\n",
        "print(\"Accuracy: \" + str(accuracy_score(test_y, bert_predicted)))"
      ],
      "metadata": {
        "id": "IeFdFuWAsYtb",
        "colab": {
          "base_uri": "https://localhost:8080/",
          "height": 215
        },
        "outputId": "923680b2-5519-41ff-9754-b863ae9acb46"
      },
      "execution_count": 23,
      "outputs": [
        {
          "output_type": "error",
          "ename": "NameError",
          "evalue": "ignored",
          "traceback": [
            "\u001b[0;31m---------------------------------------------------------------------------\u001b[0m",
            "\u001b[0;31mNameError\u001b[0m                                 Traceback (most recent call last)",
            "\u001b[0;32m<ipython-input-23-43c1910a6515>\u001b[0m in \u001b[0;36m<cell line: 3>\u001b[0;34m()\u001b[0m\n\u001b[1;32m      1\u001b[0m \u001b[0;32mfrom\u001b[0m \u001b[0msklearn\u001b[0m\u001b[0;34m.\u001b[0m\u001b[0mmetrics\u001b[0m \u001b[0;32mimport\u001b[0m \u001b[0mclassification_report\u001b[0m\u001b[0;34m\u001b[0m\u001b[0;34m\u001b[0m\u001b[0m\n\u001b[1;32m      2\u001b[0m \u001b[0;32mfrom\u001b[0m \u001b[0msklearn\u001b[0m\u001b[0;34m.\u001b[0m\u001b[0mmetrics\u001b[0m \u001b[0;32mimport\u001b[0m \u001b[0maccuracy_score\u001b[0m\u001b[0;34m\u001b[0m\u001b[0;34m\u001b[0m\u001b[0m\n\u001b[0;32m----> 3\u001b[0;31m \u001b[0mprint\u001b[0m\u001b[0;34m(\u001b[0m\u001b[0mclassification_report\u001b[0m\u001b[0;34m(\u001b[0m\u001b[0mtest_y\u001b[0m\u001b[0;34m,\u001b[0m \u001b[0mbert_predicted\u001b[0m\u001b[0;34m)\u001b[0m\u001b[0;34m)\u001b[0m\u001b[0;34m\u001b[0m\u001b[0;34m\u001b[0m\u001b[0m\n\u001b[0m\u001b[1;32m      4\u001b[0m \u001b[0mprint\u001b[0m\u001b[0;34m(\u001b[0m\u001b[0;34m\"Accuracy: \"\u001b[0m \u001b[0;34m+\u001b[0m \u001b[0mstr\u001b[0m\u001b[0;34m(\u001b[0m\u001b[0maccuracy_score\u001b[0m\u001b[0;34m(\u001b[0m\u001b[0mtest_y\u001b[0m\u001b[0;34m,\u001b[0m \u001b[0mbert_predicted\u001b[0m\u001b[0;34m)\u001b[0m\u001b[0;34m)\u001b[0m\u001b[0;34m)\u001b[0m\u001b[0;34m\u001b[0m\u001b[0;34m\u001b[0m\u001b[0m\n",
            "\u001b[0;31mNameError\u001b[0m: name 'bert_predicted' is not defined"
          ]
        }
      ]
    }
  ],
  "metadata": {
    "colab": {
      "provenance": [],
      "toc_visible": true
    },
    "kernelspec": {
      "display_name": "Python 3",
      "name": "python3"
    },
    "language_info": {
      "name": "python"
    },
    "gpuClass": "standard",
    "accelerator": "GPU"
  },
  "nbformat": 4,
  "nbformat_minor": 0
}